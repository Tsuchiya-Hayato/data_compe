{
 "cells": [
  {
   "cell_type": "code",
   "execution_count": 1,
   "metadata": {},
   "outputs": [],
   "source": [
    "import numpy as np # linear algebra\n",
    "import pandas as pd # data processing, CSV file I/O (e.g. pd.read_csv)\n",
    "\n",
    "import os\n",
    "import sys\n",
    "\n",
    "\n",
    "import torch\n",
    "import torch.nn as nn\n",
    "import torch.nn.functional as F\n",
    "import torch.optim as optim \n",
    "from torch.nn.modules.loss import _WeightedLoss\n",
    "from torch.utils.data import DataLoader, Dataset\n",
    "import torch.utils.data as utils\n",
    "import torchvision\n",
    "from torchvision import datasets, models, transforms\n",
    "from albumentations import (\n",
    "    HorizontalFlip, VerticalFlip, IAAPerspective, ShiftScaleRotate, CLAHE, RandomRotate90,\n",
    "    Transpose, ShiftScaleRotate, Blur, OpticalDistortion, GridDistortion, HueSaturationValue,\n",
    "    IAAAdditiveGaussianNoise, GaussNoise, MotionBlur, MedianBlur, IAAPiecewiseAffine, RandomResizedCrop,\n",
    "    IAASharpen, IAAEmboss, RandomBrightnessContrast, Flip, OneOf, Compose, Normalize, Cutout, CoarseDropout, ShiftScaleRotate, CenterCrop, Resize\n",
    ")\n",
    "\n",
    "from albumentations.pytorch import ToTensorV2\n",
    "\n",
    "from efficientnet_pytorch import EfficientNet\n",
    "from sklearn.model_selection import GroupKFold, StratifiedKFold\n",
    "from sklearn.metrics import confusion_matrix\n",
    "from tqdm import tqdm\n",
    "import shutil\n",
    "import matplotlib.pyplot as plt\n",
    "%matplotlib inline\n",
    "import seaborn as sns\n",
    "import random\n",
    "import warnings\n",
    "warnings.filterwarnings(\"ignore\")"
   ]
  },
  {
   "cell_type": "code",
   "execution_count": 2,
   "metadata": {},
   "outputs": [
    {
     "name": "stdout",
     "output_type": "stream",
     "text": [
      "../../../data/cassava-leaf-disease-classification\\train_images/\n"
     ]
    }
   ],
   "source": [
    "BASE_DIR = \"../../../data/cassava-leaf-disease-classification\"\n",
    "train_dir = os.path.join(BASE_DIR, 'train_images/')\n",
    "test_dir = os.path.join(BASE_DIR, \"test_images/\")\n",
    "print(train_dir)"
   ]
  },
  {
   "cell_type": "code",
   "execution_count": 3,
   "metadata": {},
   "outputs": [],
   "source": [
    "#日付を取得\n",
    "import datetime as dt\n",
    "\n",
    "dt_now = dt.datetime.now()\n",
    "directory_name = dt_now.strftime('%Y%m%d%H')\n",
    "create_directory = BASE_DIR + '/models/' + directory_name\n",
    "if(not (os.path.exists(create_directory))):\n",
    "    os.mkdir(create_directory)"
   ]
  },
  {
   "cell_type": "code",
   "execution_count": 4,
   "metadata": {},
   "outputs": [],
   "source": [
    "## config\n",
    "class CFG:\n",
    "    num_workers=0\n",
    "    model_name='efficientnet-b4'\n",
    "    size=380\n",
    "    batch_size=4\n",
    "    target_size=5\n",
    "    target_col='label'\n",
    "    n_fold=3\n",
    "    seed = 2021\n",
    "    learning_rate = 1e-5\n",
    "    num_epochs = 25\n",
    "    n_split = 3\n",
    "    checkpoint_thres_loss = 1.0\n",
    "    checkpoint_thres_acc = 86\n",
    "    weights=torch.tensor([1.5, 1.0, 1.0, 1.0, 1.0]) #see 000_EDA.ipynb\n",
    "    weight_decay=5e-5\n",
    "    smoothing=0.1"
   ]
  },
  {
   "cell_type": "code",
   "execution_count": 5,
   "metadata": {},
   "outputs": [],
   "source": [
    "np.random.seed(CFG.seed)\n",
    "random.seed(CFG.seed)\n",
    "torch.manual_seed(CFG.seed)\n",
    "torch.cuda.manual_seed(CFG.seed)"
   ]
  },
  {
   "cell_type": "code",
   "execution_count": 6,
   "metadata": {},
   "outputs": [
    {
     "data": {
      "text/html": [
       "<div>\n",
       "<style scoped>\n",
       "    .dataframe tbody tr th:only-of-type {\n",
       "        vertical-align: middle;\n",
       "    }\n",
       "\n",
       "    .dataframe tbody tr th {\n",
       "        vertical-align: top;\n",
       "    }\n",
       "\n",
       "    .dataframe thead th {\n",
       "        text-align: right;\n",
       "    }\n",
       "</style>\n",
       "<table border=\"1\" class=\"dataframe\">\n",
       "  <thead>\n",
       "    <tr style=\"text-align: right;\">\n",
       "      <th></th>\n",
       "      <th>image_id</th>\n",
       "      <th>label</th>\n",
       "    </tr>\n",
       "  </thead>\n",
       "  <tbody>\n",
       "    <tr>\n",
       "      <th>0</th>\n",
       "      <td>1000015157.jpg</td>\n",
       "      <td>0</td>\n",
       "    </tr>\n",
       "    <tr>\n",
       "      <th>1</th>\n",
       "      <td>1000201771.jpg</td>\n",
       "      <td>3</td>\n",
       "    </tr>\n",
       "    <tr>\n",
       "      <th>2</th>\n",
       "      <td>100042118.jpg</td>\n",
       "      <td>1</td>\n",
       "    </tr>\n",
       "    <tr>\n",
       "      <th>3</th>\n",
       "      <td>1000723321.jpg</td>\n",
       "      <td>1</td>\n",
       "    </tr>\n",
       "    <tr>\n",
       "      <th>4</th>\n",
       "      <td>1000812911.jpg</td>\n",
       "      <td>3</td>\n",
       "    </tr>\n",
       "  </tbody>\n",
       "</table>\n",
       "</div>"
      ],
      "text/plain": [
       "         image_id  label\n",
       "0  1000015157.jpg      0\n",
       "1  1000201771.jpg      3\n",
       "2   100042118.jpg      1\n",
       "3  1000723321.jpg      1\n",
       "4  1000812911.jpg      3"
      ]
     },
     "execution_count": 6,
     "metadata": {},
     "output_type": "execute_result"
    }
   ],
   "source": [
    "df_train = pd.read_csv(BASE_DIR + \"/train.csv\")\n",
    "df_train.head()\n"
   ]
  },
  {
   "cell_type": "code",
   "execution_count": 7,
   "metadata": {},
   "outputs": [
    {
     "name": "stdout",
     "output_type": "stream",
     "text": [
      "Loaded pretrained weights for efficientnet-b4\n"
     ]
    }
   ],
   "source": [
    "\n",
    "model = EfficientNet.from_pretrained(CFG.model_name)\n",
    "num_ftrs = model._fc.in_features\n",
    "model._fc = nn.Linear(num_ftrs, CFG.target_size)"
   ]
  },
  {
   "cell_type": "code",
   "execution_count": null,
   "metadata": {},
   "outputs": [],
   "source": []
  },
  {
   "cell_type": "code",
   "execution_count": 8,
   "metadata": {},
   "outputs": [
    {
     "name": "stdout",
     "output_type": "stream",
     "text": [
      "cuda:0\n",
      "GeForce RTX 2060\n",
      "Memory Usage:\n",
      "Allocated: 0.0 GB\n",
      "Cached:    0.0 GB\n"
     ]
    }
   ],
   "source": [
    "device = torch.device(\"cuda:0\" if torch.cuda.is_available() else \"cpu\")\n",
    "print(device)\n",
    "if device.type == 'cuda':\n",
    "    print(torch.cuda.get_device_name(0))\n",
    "    print('Memory Usage:')\n",
    "    print('Allocated:', round(torch.cuda.memory_allocated(0)/1024**3,1), 'GB')\n",
    "    print('Cached:   ', round(torch.cuda.memory_cached(0)/1024**3,1), 'GB')"
   ]
  },
  {
   "cell_type": "code",
   "execution_count": null,
   "metadata": {},
   "outputs": [],
   "source": []
  },
  {
   "cell_type": "markdown",
   "metadata": {},
   "source": [
    "# Data Augumentation"
   ]
  },
  {
   "cell_type": "code",
   "execution_count": 9,
   "metadata": {},
   "outputs": [],
   "source": [
    "def get_train_transforms():\n",
    "    return Compose([\n",
    "            RandomResizedCrop(CFG.size, CFG.size),\n",
    "            Transpose(p=0.5),\n",
    "            HorizontalFlip(p=0.5),\n",
    "            VerticalFlip(p=0.5),\n",
    "            ShiftScaleRotate(p=0.5),\n",
    "            HueSaturationValue(hue_shift_limit=0.2, sat_shift_limit=0.2, val_shift_limit=0.2, p=0.5),\n",
    "            RandomBrightnessContrast(brightness_limit=(-0.1,0.1), contrast_limit=(-0.1, 0.1), p=0.5),\n",
    "            Normalize(mean=[0.485, 0.456, 0.406], std=[0.229, 0.224, 0.225], max_pixel_value=255.0, p=1.0),\n",
    "            CoarseDropout(p=0.5),\n",
    "            Cutout(p=0.5),\n",
    "            ToTensorV2(p=1.0),\n",
    "        ], p=1.)\n",
    "  \n",
    "        \n",
    "def get_valid_transforms():\n",
    "    return Compose([\n",
    "            CenterCrop(CFG.size, CFG.size, p=1.),\n",
    "            Resize(CFG.size, CFG.size),\n",
    "            Normalize(mean=[0.485, 0.456, 0.406], std=[0.229, 0.224, 0.225], max_pixel_value=255.0, p=1.0),\n",
    "            ToTensorV2(p=1.0),\n",
    "        ], p=1.)"
   ]
  },
  {
   "cell_type": "markdown",
   "metadata": {},
   "source": [
    "## Data Loader"
   ]
  },
  {
   "cell_type": "code",
   "execution_count": 10,
   "metadata": {},
   "outputs": [],
   "source": [
    "class ImageData(Dataset):\n",
    "    def __init__(self, df, data_dir, transform, output_label=True):\n",
    "        super().__init__()\n",
    "        self.df = df\n",
    "        self.data_dir = data_dir\n",
    "        self.transform = transform\n",
    "        self.output_label = output_label\n",
    "\n",
    "    def __len__(self):\n",
    "        return len(self.df)\n",
    "    \n",
    "    def __getitem__(self, index):       \n",
    "        img_name = self.df.iloc[index,0]\n",
    "        if self.output_label:\n",
    "            label = self.df.iloc[index,1]\n",
    "        \n",
    "        img_path = os.path.join(self.data_dir, img_name)\n",
    "        image = plt.imread(img_path)\n",
    "        image = self.transform(image=image)\n",
    "\n",
    "        # do label smoothing\n",
    "        if self.output_label == True:\n",
    "            return image, label\n",
    "        else:\n",
    "            return image"
   ]
  },
  {
   "cell_type": "markdown",
   "metadata": {},
   "source": [
    "## CrossEntropyLoss"
   ]
  },
  {
   "cell_type": "code",
   "execution_count": 11,
   "metadata": {},
   "outputs": [],
   "source": [
    "class SmoothCrossEntropyLoss(_WeightedLoss):\n",
    "    def __init__(self, weight=CFG.weights, reduction='mean', smoothing=CFG.smoothing):\n",
    "        super().__init__(weight=weight, reduction=reduction)\n",
    "        self.smoothing = smoothing\n",
    "        self.weight = weight\n",
    "        self.reduction = reduction\n",
    "\n",
    "    @staticmethod\n",
    "    def _smooth_one_hot(targets:torch.Tensor, n_classes:int, smoothing=CFG.smoothing):\n",
    "        assert 0 <= smoothing < 1\n",
    "        with torch.no_grad():\n",
    "            targets = torch.empty(size=(targets.size(0), n_classes),\n",
    "                    device=targets.device) \\\n",
    "                .fill_(smoothing /(n_classes-1)) \\\n",
    "                .scatter_(1, targets.data.unsqueeze(1), 1.-smoothing)\n",
    "        return targets\n",
    "\n",
    "    def forward(self, inputs, targets):\n",
    "        targets = SmoothCrossEntropyLoss._smooth_one_hot(targets, inputs.size(-1),\n",
    "            self.smoothing)\n",
    "        lsm = F.log_softmax(inputs, -1)\n",
    "\n",
    "        if self.weight is not None:\n",
    "            lsm = lsm * self.weight.unsqueeze(0)\n",
    "\n",
    "        loss = -(targets * lsm).sum(-1)\n",
    "\n",
    "        if  self.reduction == 'sum':\n",
    "            loss = loss.sum()\n",
    "        elif  self.reduction == 'mean':\n",
    "            loss = loss.mean()\n",
    "\n",
    "        return loss"
   ]
  },
  {
   "cell_type": "markdown",
   "metadata": {},
   "source": [
    "## Helper Function"
   ]
  },
  {
   "cell_type": "code",
   "execution_count": 12,
   "metadata": {},
   "outputs": [],
   "source": [
    "def Plot_Model_History(loss_tra_li,acc_tra_li,loss_val_li,acc_val_li):\n",
    "    plt.figure(figsize=(12, 5))\n",
    "    plt.subplot(2, 2, 1)\n",
    "    plt.plot(loss_tra_li, label=\"train_loss\")\n",
    "    plt.plot(loss_val_li, label=\"val_loss\")\n",
    "    plt.legend()\n",
    "    plt.subplot(2, 2, 2)\n",
    "    plt.plot(acc_tra_li, label=\"train_acc\")\n",
    "    plt.plot(acc_val_li, label=\"val_acc\")\n",
    "    plt.legend()\n",
    "    plt.show()\n",
    "    \n",
    "def Save_histroy(init=False):\n",
    "    filename = \"./log/\" + directory_name\n",
    "    if init:\n",
    "        with open(filename+'.txt','w') as f:\n",
    "            f.write(\"filename: 003_albumentations_smoothing.ipynb, model: {}, lr: {}, weights: {}. batchsize: {}, kfold: {}, epoch: {}, weght_decay: {}, smoothing: {}\\n\" \n",
    "            .format(CFG.model_name,CFG.learning_rate,CFG.weights, CFG.batch_size,CFG.n_split,CFG.num_epochs,CFG.weight_decay,CFG.smoothing))\n",
    "    else:\n",
    "        with open(filename+'.txt',mode='a') as f:\n",
    "            f.write('\\nkfold: {}, epoch: {}. train_loss: {}, train_acc: {}. val_loss: {}, val_acc: {}'\n",
    "                    .format(fold_index+1, epoch + 1, train_loss, train_acc, val_loss, val_acc))\n",
    "            \n",
    "            \n",
    "            \n",
    "def Confusion_Matrix(train_true_li,train_pred_li,val_true_li,val_pred_li):\n",
    "    plt.figure(figsize=(10,5))\n",
    "    train_cm = confusion_matrix(train_true_li,train_pred_li)\n",
    "    val_cm = confusion_matrix(val_true_li,val_pred_li)\n",
    "    plt.subplot(1,2,1)\n",
    "    sns.heatmap(train_cm, annot=True, cmap='Blues', cbar=False,fmt=\"3d\")\n",
    "    plt.xlabel(\"taget\")\n",
    "    plt.ylabel(\"predict\")\n",
    "    plt.title(\"train\")\n",
    "    \n",
    "    plt.subplot(1,2,2)\n",
    "    sns.heatmap(val_cm, annot=True, cmap='Blues', cbar=False,fmt=\"3d\")\n",
    "    plt.title(\"val\")\n",
    "    plt.xlabel(\"taget\")\n",
    "    plt.ylabel(\"predict\")\n",
    "    plt.show()\n",
    "    \n",
    "def Define_Model():\n",
    "    m = EfficientNet.from_pretrained(CFG.model_name)\n",
    "    num_ftrs = m._fc.in_features\n",
    "    m._fc = nn.Linear(num_ftrs, CFG.target_size)\n",
    "    return m.to(device)"
   ]
  },
  {
   "cell_type": "code",
   "execution_count": null,
   "metadata": {},
   "outputs": [
    {
     "name": "stdout",
     "output_type": "stream",
     "text": [
      "Loaded pretrained weights for efficientnet-b4\n",
      "Kfold: 1 - Epoch: 1 - Train_Loss: 1.213603 - Train_Acc: 65.3393 - Val_Loss: 1.010960 - Val_Acc: 77.162484\n",
      "Kfold: 1 - Epoch: 2 - Train_Loss: 1.041542 - Train_Acc: 74.5373 - Val_Loss: 0.919277 - Val_Acc: 80.597224\n",
      "Kfold: 1 - Epoch: 3 - Train_Loss: 0.981390 - Train_Acc: 77.2084 - Val_Loss: 0.859790 - Val_Acc: 83.246881\n",
      "Kfold: 1 - Epoch: 4 - Train_Loss: 0.944602 - Train_Acc: 78.9961 - Val_Loss: 0.841540 - Val_Acc: 84.074022\n",
      "Kfold: 1 - Epoch: 5 - Train_Loss: 0.921426 - Train_Acc: 80.3842 - Val_Loss: 0.828960 - Val_Acc: 84.929202\n",
      "Kfold: 1 - Epoch: 6 - Train_Loss: 0.892627 - Train_Acc: 81.6461 - Val_Loss: 0.824131 - Val_Acc: 85.475957\n",
      "Kfold: 1 - Epoch: 7 - Train_Loss: 0.879143 - Train_Acc: 82.4383 - Val_Loss: 0.800490 - Val_Acc: 86.036731\n",
      "Kfold: 1 - Epoch: 8 - Train_Loss: 0.865200 - Train_Acc: 82.9781 - Val_Loss: 0.800921 - Val_Acc: 86.583485\n",
      "Kfold: 1 - Epoch: 9 - Train_Loss: 0.853512 - Train_Acc: 83.6021 - Val_Loss: 0.798163 - Val_Acc: 86.373195\n",
      "Kfold: 1 - Epoch: 10 - Train_Loss: 0.847642 - Train_Acc: 83.9386 - Val_Loss: 0.795927 - Val_Acc: 85.994673\n",
      "Kfold: 1 - Epoch: 11 - Train_Loss: 0.841056 - Train_Acc: 84.2681 - Val_Loss: 0.790616 - Val_Acc: 85.994673\n",
      "Kfold: 1 - Epoch: 12 - Train_Loss: 0.830331 - Train_Acc: 84.6607 - Val_Loss: 0.787695 - Val_Acc: 86.962008\n",
      "Kfold: 1 - Epoch: 13 - Train_Loss: 0.822002 - Train_Acc: 85.0182 - Val_Loss: 0.794951 - Val_Acc: 86.415253\n",
      "Kfold: 1 - Epoch: 14 - Train_Loss: 0.811386 - Train_Acc: 85.6772 - Val_Loss: 0.788330 - Val_Acc: 86.849853\n",
      "Kfold: 1 - Epoch: 15 - Train_Loss: 0.807632 - Train_Acc: 85.9436 - Val_Loss: 0.790073 - Val_Acc: 86.639563\n",
      "Kfold: 1 - Epoch: 16 - Train_Loss: 0.800770 - Train_Acc: 86.1540 - Val_Loss: 0.801134 - Val_Acc: 86.541427\n",
      "Kfold: 1 - Epoch: 17 - Train_Loss: 0.799641 - Train_Acc: 86.2731 - Val_Loss: 0.805004 - Val_Acc: 86.429272\n",
      "Kfold: 1 - Epoch: 18 - Train_Loss: 0.789499 - Train_Acc: 86.3503 - Val_Loss: 0.789830 - Val_Acc: 86.990046\n",
      "Kfold: 1 - Epoch: 19 - Train_Loss: 0.791125 - Train_Acc: 86.8340 - Val_Loss: 0.797096 - Val_Acc: 86.681621\n",
      "Kfold: 1 - Epoch: 20 - Train_Loss: 0.781324 - Train_Acc: 86.8550 - Val_Loss: 0.789428 - Val_Acc: 86.947988\n",
      "Kfold: 1 - Epoch: 21 - Train_Loss: 0.780853 - Train_Acc: 86.8130 - Val_Loss: 0.791728 - Val_Acc: 87.088182\n",
      "Kfold: 1 - Epoch: 22 - Train_Loss: 0.779353 - Train_Acc: 87.0163 - Val_Loss: 0.809041 - Val_Acc: 87.060143\n",
      "Kfold: 1 - Epoch: 23 - Train_Loss: 0.774823 - Train_Acc: 87.2196 - Val_Loss: 0.789988 - Val_Acc: 87.284453\n",
      "Kfold: 1 - Epoch: 24 - Train_Loss: 0.772827 - Train_Acc: 87.2827 - Val_Loss: 0.791135 - Val_Acc: 87.284453\n",
      "Kfold: 1 - Epoch: 25 - Train_Loss: 0.767518 - Train_Acc: 87.5561 - Val_Loss: 0.787825 - Val_Acc: 87.312491\n"
     ]
    },
    {
     "data": {
      "image/png": "[encoded data removed]",
      "text/plain": [
       "<Figure size 864x360 with 2 Axes>"
      ]
     },
     "metadata": {
      "needs_background": "light"
     },
     "output_type": "display_data"
    },
    {
     "data": {
      "image/png": "[encoded data removed]",
      "text/plain": [
       "<Figure size 720x360 with 2 Axes>"
      ]
     },
     "metadata": {
      "needs_background": "light"
     },
     "output_type": "display_data"
    },
    {
     "name": "stdout",
     "output_type": "stream",
     "text": [
      "Loaded pretrained weights for efficientnet-b4\n",
      "Kfold: 2 - Epoch: 1 - Train_Loss: 1.208072 - Train_Acc: 66.1760 - Val_Loss: 1.027951 - Val_Acc: 76.738643\n",
      "Kfold: 2 - Epoch: 2 - Train_Loss: 1.037858 - Train_Acc: 74.7284 - Val_Loss: 0.897547 - Val_Acc: 81.772294\n",
      "Kfold: 2 - Epoch: 3 - Train_Loss: 0.990650 - Train_Acc: 77.1679 - Val_Loss: 0.845168 - Val_Acc: 83.651150\n",
      "Kfold: 2 - Epoch: 4 - Train_Loss: 0.955019 - Train_Acc: 78.9345 - Val_Loss: 0.830568 - Val_Acc: 84.828940\n",
      "Kfold: 2 - Epoch: 5 - Train_Loss: 0.929211 - Train_Acc: 80.2664 - Val_Loss: 0.821884 - Val_Acc: 85.109366\n",
      "Kfold: 2 - Epoch: 6 - Train_Loss: 0.906405 - Train_Acc: 81.0866 - Val_Loss: 0.806224 - Val_Acc: 86.006730\n",
      "Kfold: 2 - Epoch: 7 - Train_Loss: 0.886259 - Train_Acc: 82.3063 - Val_Loss: 0.800005 - Val_Acc: 86.118901\n"
     ]
    }
   ],
   "source": [
    "# n_splitsでKの数を指定\n",
    "folds = StratifiedKFold(n_splits=CFG.n_split).split(np.arange(df_train.shape[0]), df_train[\"label\"].values)\n",
    "Save_histroy(init=True)\n",
    "for fold_index, (train_index,val_index) in enumerate(folds):\n",
    "\n",
    "    model = Define_Model()\n",
    "    optimizer = optim.Adam(model.parameters(), lr=CFG.learning_rate)\n",
    "    \n",
    "    train = df_train.iloc[train_index].reset_index(drop=True)\n",
    "    train_data = ImageData(df = train, data_dir = train_dir, transform = get_train_transforms())\n",
    "    train_loader = DataLoader(dataset = train_data, batch_size = CFG.batch_size, num_workers=CFG.num_workers, pin_memory=True,shuffle=True)\n",
    "    train_criterion = SmoothCrossEntropyLoss().to(device)\n",
    "    \n",
    "    val = df_train.iloc[val_index,:].reset_index(drop=True)\n",
    "    val_data = ImageData(df = val, data_dir = train_dir, transform = get_valid_transforms())\n",
    "    val_loader = DataLoader(dataset = val_data, batch_size = CFG.batch_size, num_workers=CFG.num_workers, pin_memory=True,shuffle=True)\n",
    "    val_criterion = SmoothCrossEntropyLoss().to(device)\n",
    "    train_epoch_log,val_epoch_log = [],[]\n",
    "    train_acc_log,val_acc_log = [],[]\n",
    "    train_taget_li,val_taget_li = [],[]\n",
    "    train_pred_li,val_pred_li = [],[]\n",
    "\n",
    "    for epoch in range(CFG.num_epochs):\n",
    "        train_total = 0\n",
    "        train_correct = 0\n",
    "        train_loss_sum = 0\n",
    "        val_total = 0\n",
    "        val_correct = 0\n",
    "        val_loss_sum = 0\n",
    "        \n",
    "        # train\n",
    "        model.train()\n",
    "        for idx, (data, target) in enumerate(train_loader):\n",
    "            data, target = data['image'].to(device), target.to(device)\n",
    "            optimizer.zero_grad()\n",
    "            output = model(data)\n",
    "            loss = train_criterion(output, target)\n",
    "            loss.backward()\n",
    "            optimizer.step()  \n",
    "            \n",
    "            train_loss_sum += loss.item()\n",
    "            train_total += target.size(0)\n",
    "            _,predicted = output.max(1)\n",
    "            train_correct += predicted.eq(target).sum().item()\n",
    "            train_taget_li.extend(target.to('cpu').detach().numpy().copy().tolist())\n",
    "            train_pred_li.extend(predicted.to('cpu').detach().numpy().copy().tolist())\n",
    "            \n",
    "            \n",
    "        train_loss = train_loss_sum / len(train_loader)\n",
    "        train_epoch_log.append(train_loss)\n",
    "        train_acc = 100.0 * train_correct/train_total\n",
    "        train_acc_log.append(train_acc)\n",
    "        \n",
    "        # val\n",
    "        model.eval()\n",
    "        with torch.no_grad():\n",
    "            for idx, (data, target) in enumerate(val_loader):\n",
    "                data, target = data['image'].to(device), target.to(device)\n",
    "                output = model(data)\n",
    "                loss = val_criterion(output, target)\n",
    "                val_loss_sum += loss.item()\n",
    "                val_total += target.size(0)\n",
    "                _,predicted = output.max(1)\n",
    "                val_correct += (predicted == target).sum().item()\n",
    "                val_taget_li.extend(target.to('cpu').detach().numpy().copy().tolist())\n",
    "                val_pred_li.extend(predicted.to('cpu').detach().numpy().copy().tolist())\n",
    "                    \n",
    "            val_loss = val_loss_sum / len(val_loader)\n",
    "            val_epoch_log.append(val_loss)\n",
    "            val_acc = 100.0 * val_correct/val_total\n",
    "            val_acc_log.append(val_acc)\n",
    "                \n",
    "        print('Kfold: {} - Epoch: {} - Train_Loss: {:.6f} - Train_Acc: {:.4f} - Val_Loss: {:.6f} - Val_Acc: {:4f}'.format(fold_index+1, epoch + 1, train_loss, train_acc, val_loss, val_acc))\n",
    "        Save_histroy(init=False)\n",
    "        if (val_loss < CFG.checkpoint_thres_loss) & (val_acc > CFG.checkpoint_thres_acc):\n",
    "            CFG.checkpoint_thres_loss = val_loss\n",
    "            CFG.checkpoint_thres_acc = val_acc\n",
    "            path = create_directory + \"./\"+ directory_name + '_'+CFG.model_name + \"_kfold_\"+str(fold_index+1)+\"_epoch\"+str(epoch+1)+ \"_Acc_\" + str(val_acc) + '.pth'\n",
    "            torch.save(model.state_dict(), path) \n",
    "        \n",
    "    Plot_Model_History(train_epoch_log,train_acc_log,val_epoch_log,val_acc_log)\n",
    "    Confusion_Matrix(train_taget_li,train_pred_li,val_taget_li,val_pred_li)"
   ]
  },
  {
   "cell_type": "code",
   "execution_count": null,
   "metadata": {},
   "outputs": [],
   "source": []
  },
  {
   "cell_type": "code",
   "execution_count": null,
   "metadata": {},
   "outputs": [],
   "source": []
  },
  {
   "cell_type": "code",
   "execution_count": null,
   "metadata": {},
   "outputs": [],
   "source": []
  },
  {
   "cell_type": "code",
   "execution_count": null,
   "metadata": {},
   "outputs": [],
   "source": []
  },
  {
   "cell_type": "code",
   "execution_count": null,
   "metadata": {},
   "outputs": [],
   "source": []
  }
 ],
 "metadata": {
  "kernelspec": {
   "display_name": "env_pytorch",
   "language": "python",
   "name": "env_pytorch"
  },
  "language_info": {
   "codemirror_mode": {
    "name": "ipython",
    "version": 3
   },
   "file_extension": ".py",
   "mimetype": "text/x-python",
   "name": "python",
   "nbconvert_exporter": "python",
   "pygments_lexer": "ipython3",
   "version": "3.8.5"
  }
 },
 "nbformat": 4,
 "nbformat_minor": 4
}
