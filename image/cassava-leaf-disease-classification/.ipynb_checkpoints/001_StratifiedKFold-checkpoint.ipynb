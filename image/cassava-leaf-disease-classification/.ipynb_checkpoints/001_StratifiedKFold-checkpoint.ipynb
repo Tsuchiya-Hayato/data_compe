{
 "cells": [
  {
   "cell_type": "code",
   "execution_count": 1,
   "metadata": {},
   "outputs": [],
   "source": [
    "import numpy as np # linear algebra\n",
    "import pandas as pd # data processing, CSV file I/O (e.g. pd.read_csv)\n",
    "\n",
    "import os\n",
    "import sys\n",
    "\n",
    "from efficientnet_pytorch import EfficientNet"
   ]
  },
  {
   "cell_type": "code",
   "execution_count": 2,
   "metadata": {},
   "outputs": [],
   "source": [
    "import torch\n",
    "import torch.nn as nn\n",
    "import torch.optim as optim \n",
    "from torch.utils.data import DataLoader, Dataset\n",
    "import torch.utils.data as utils\n",
    "import torchvision\n",
    "from torchvision import datasets, models, transforms\n",
    "\n",
    "\n",
    "from sklearn.model_selection import GroupKFold, StratifiedKFold\n",
    "from tqdm import tqdm\n",
    "import shutil\n",
    "import matplotlib.pyplot as plt\n",
    "%matplotlib inline\n",
    "import random\n",
    "import warnings\n",
    "warnings.filterwarnings(\"ignore\")"
   ]
  },
  {
   "cell_type": "code",
   "execution_count": 3,
   "metadata": {},
   "outputs": [
    {
     "name": "stdout",
     "output_type": "stream",
     "text": [
      "../../../data/cassava-leaf-disease-classification\\train_images/\n"
     ]
    }
   ],
   "source": [
    "BASE_DIR = \"../../../data/cassava-leaf-disease-classification\"\n",
    "train_dir = os.path.join(BASE_DIR, 'train_images/')\n",
    "test_dir = os.path.join(BASE_DIR, \"test_images/\")\n",
    "print(train_dir)"
   ]
  },
  {
   "cell_type": "code",
   "execution_count": 4,
   "metadata": {},
   "outputs": [],
   "source": [
    "#日付を取得\n",
    "import datetime as dt\n",
    "\n",
    "dt_now = dt.datetime.now()\n",
    "directory_name = dt_now.strftime('%Y%m%d')\n",
    "create_directory = BASE_DIR + '/models/' + directory_name\n",
    "if(not (os.path.exists(create_directory))):\n",
    "    os.mkdir(create_directory)"
   ]
  },
  {
   "cell_type": "code",
   "execution_count": 5,
   "metadata": {},
   "outputs": [
    {
     "name": "stdout",
     "output_type": "stream",
     "text": [
      "../../../data/cassava-leaf-disease-classification\\train_images/\n"
     ]
    }
   ],
   "source": [
    "BASE_DIR = \"../../../data/cassava-leaf-disease-classification\"\n",
    "train_dir = os.path.join(BASE_DIR, 'train_images/')\n",
    "test_dir = os.path.join(BASE_DIR, \"test_images/\")\n",
    "print(train_dir)"
   ]
  },
  {
   "cell_type": "code",
   "execution_count": 31,
   "metadata": {},
   "outputs": [],
   "source": [
    "## config\n",
    "class CFG:\n",
    "    num_workers=0\n",
    "    model_name='efficientnet-b1'\n",
    "    size=240\n",
    "    batch_size=16\n",
    "    target_size=5\n",
    "    target_col='label'\n",
    "    n_fold=3\n",
    "    seed = 2021\n",
    "    learning_rate = 0.005\n",
    "    num_epochs = 150\n",
    "    n_split = 3\n",
    "    checkpoint_thres_loss = 0.05\n",
    "    checkpoint_thres_acc = 80"
   ]
  },
  {
   "cell_type": "code",
   "execution_count": 21,
   "metadata": {},
   "outputs": [],
   "source": [
    "np.random.seed(CFG.seed)\n",
    "random.seed(CFG.seed)\n",
    "torch.manual_seed(CFG.seed)\n",
    "torch.cuda.manual_seed(CFG.seed)"
   ]
  },
  {
   "cell_type": "code",
   "execution_count": 22,
   "metadata": {},
   "outputs": [
    {
     "data": {
      "text/html": [
       "<div>\n",
       "<style scoped>\n",
       "    .dataframe tbody tr th:only-of-type {\n",
       "        vertical-align: middle;\n",
       "    }\n",
       "\n",
       "    .dataframe tbody tr th {\n",
       "        vertical-align: top;\n",
       "    }\n",
       "\n",
       "    .dataframe thead th {\n",
       "        text-align: right;\n",
       "    }\n",
       "</style>\n",
       "<table border=\"1\" class=\"dataframe\">\n",
       "  <thead>\n",
       "    <tr style=\"text-align: right;\">\n",
       "      <th></th>\n",
       "      <th>image_id</th>\n",
       "      <th>label</th>\n",
       "    </tr>\n",
       "  </thead>\n",
       "  <tbody>\n",
       "    <tr>\n",
       "      <th>0</th>\n",
       "      <td>1000015157.jpg</td>\n",
       "      <td>0</td>\n",
       "    </tr>\n",
       "    <tr>\n",
       "      <th>1</th>\n",
       "      <td>1000201771.jpg</td>\n",
       "      <td>3</td>\n",
       "    </tr>\n",
       "    <tr>\n",
       "      <th>2</th>\n",
       "      <td>100042118.jpg</td>\n",
       "      <td>1</td>\n",
       "    </tr>\n",
       "    <tr>\n",
       "      <th>3</th>\n",
       "      <td>1000723321.jpg</td>\n",
       "      <td>1</td>\n",
       "    </tr>\n",
       "    <tr>\n",
       "      <th>4</th>\n",
       "      <td>1000812911.jpg</td>\n",
       "      <td>3</td>\n",
       "    </tr>\n",
       "  </tbody>\n",
       "</table>\n",
       "</div>"
      ],
      "text/plain": [
       "         image_id  label\n",
       "0  1000015157.jpg      0\n",
       "1  1000201771.jpg      3\n",
       "2   100042118.jpg      1\n",
       "3  1000723321.jpg      1\n",
       "4  1000812911.jpg      3"
      ]
     },
     "execution_count": 22,
     "metadata": {},
     "output_type": "execute_result"
    }
   ],
   "source": [
    "df_train = pd.read_csv(BASE_DIR + \"/train.csv\")\n",
    "df_train.head()\n"
   ]
  },
  {
   "cell_type": "code",
   "execution_count": 25,
   "metadata": {},
   "outputs": [
    {
     "name": "stdout",
     "output_type": "stream",
     "text": [
      "Loaded pretrained weights for efficientnet-b1\n"
     ]
    }
   ],
   "source": [
    "\n",
    "model = EfficientNet.from_pretrained(CFG.model_name)\n",
    "num_ftrs = model._fc.in_features\n",
    "model._fc = nn.Linear(num_ftrs, CFG.target_size)"
   ]
  },
  {
   "cell_type": "code",
   "execution_count": 26,
   "metadata": {},
   "outputs": [
    {
     "name": "stdout",
     "output_type": "stream",
     "text": [
      "cuda:0\n",
      "GeForce RTX 2060\n",
      "Memory Usage:\n",
      "Allocated: 0.1 GB\n",
      "Cached:    3.4 GB\n"
     ]
    }
   ],
   "source": [
    "device = torch.device(\"cuda:0\" if torch.cuda.is_available() else \"cpu\")\n",
    "print(device)\n",
    "if device.type == 'cuda':\n",
    "    print(torch.cuda.get_device_name(0))\n",
    "    print('Memory Usage:')\n",
    "    print('Allocated:', round(torch.cuda.memory_allocated(0)/1024**3,1), 'GB')\n",
    "    print('Cached:   ', round(torch.cuda.memory_cached(0)/1024**3,1), 'GB')"
   ]
  },
  {
   "cell_type": "code",
   "execution_count": 10,
   "metadata": {},
   "outputs": [],
   "source": [
    "data_transforms = transforms.Compose([\n",
    "        transforms.ToPILImage(),\n",
    "        transforms.Resize(240),\n",
    "#         transforms.RandomResizedCrop(224),\n",
    "#         transforms.RandomHorizontalFlip(),\n",
    "        transforms.ToTensor(),\n",
    "        transforms.Normalize([0.485, 0.456, 0.406], [0.229, 0.224, 0.225])\n",
    "        ])"
   ]
  },
  {
   "cell_type": "code",
   "execution_count": 11,
   "metadata": {},
   "outputs": [],
   "source": [
    "class ImageData(Dataset):\n",
    "    def __init__(self, df, data_dir, transform, output_label=True):\n",
    "        super().__init__()\n",
    "        self.df = df\n",
    "        self.data_dir = data_dir\n",
    "        self.transform = transform\n",
    "        self.output_label = output_label\n",
    "\n",
    "    def __len__(self):\n",
    "        return len(self.df)\n",
    "    \n",
    "    def __getitem__(self, index):       \n",
    "        img_name = self.df.iloc[index,0]\n",
    "        if self.output_label:\n",
    "            label = self.df.iloc[index,1]\n",
    "        \n",
    "        img_path = os.path.join(self.data_dir, img_name)\n",
    "        image = plt.imread(img_path)\n",
    "        image = self.transform(image)\n",
    "\n",
    "        # do label smoothing\n",
    "        if self.output_label == True:\n",
    "            return image, label\n",
    "        else:\n",
    "            return image"
   ]
  },
  {
   "cell_type": "code",
   "execution_count": 32,
   "metadata": {},
   "outputs": [],
   "source": [
    "def Plot_Model_History(loss_tra_li,acc_tra_li,loss_val_li,acc_val_li):\n",
    "    plt.figure(figsize=(12, 5))\n",
    "    plt.subplot(2, 2, 1)\n",
    "    plt.plot(loss_tra_li, label=\"train_loss\")\n",
    "    plt.plot(loss_val_li, label=\"val_loss\")\n",
    "    plt.legend()\n",
    "    plt.subplot(2, 2, 2)\n",
    "    plt.plot(acc_tra_li, label=\"train_acc\")\n",
    "    plt.plot(acc_val_li, label=\"val_acc\")\n",
    "    plt.legend()\n",
    "    plt.show()\n",
    "    \n",
    "def Save_histroy()"
   ]
  },
  {
   "cell_type": "code",
   "execution_count": 13,
   "metadata": {},
   "outputs": [
    {
     "name": "stdout",
     "output_type": "stream",
     "text": [
      "Loaded pretrained weights for efficientnet-b1\n",
      "Kfold: 1 - Epoch: 1 - Train_Loss: 1.012069 - Train_Acc: 63.6638 - Val_Loss: 2.147381 - Val_Acc: 22.150568\n",
      "Kfold: 1 - Epoch: 2 - Train_Loss: 0.857580 - Train_Acc: 67.5196 - Val_Loss: 0.768666 - Val_Acc: 70.727604\n",
      "Kfold: 1 - Epoch: 3 - Train_Loss: 0.779835 - Train_Acc: 71.2213 - Val_Loss: 1.492430 - Val_Acc: 49.670545\n",
      "Kfold: 1 - Epoch: 4 - Train_Loss: 0.726722 - Train_Acc: 73.9274 - Val_Loss: 1.245686 - Val_Acc: 49.320062\n",
      "Kfold: 1 - Epoch: 5 - Train_Loss: 0.674780 - Train_Acc: 75.9675 - Val_Loss: 1.506098 - Val_Acc: 53.245479\n",
      "Kfold: 1 - Epoch: 6 - Train_Loss: 0.661515 - Train_Acc: 76.5003 - Val_Loss: 0.738664 - Val_Acc: 74.540866\n",
      "Kfold: 1 - Epoch: 7 - Train_Loss: 0.636647 - Train_Acc: 77.4257 - Val_Loss: 1.132695 - Val_Acc: 57.409225\n",
      "Kfold: 1 - Epoch: 8 - Train_Loss: 0.611393 - Train_Acc: 78.5544 - Val_Loss: 0.697720 - Val_Acc: 76.896117\n",
      "Kfold: 1 - Epoch: 9 - Train_Loss: 0.580375 - Train_Acc: 80.0477 - Val_Loss: 0.877131 - Val_Acc: 70.433198\n",
      "Kfold: 1 - Epoch: 10 - Train_Loss: 0.570550 - Train_Acc: 80.0196 - Val_Loss: 0.795911 - Val_Acc: 71.484649\n",
      "Kfold: 1 - Epoch: 11 - Train_Loss: 0.544441 - Train_Acc: 80.6366 - Val_Loss: 0.780174 - Val_Acc: 71.302397\n",
      "Kfold: 1 - Epoch: 12 - Train_Loss: 0.536810 - Train_Acc: 80.9100 - Val_Loss: 1.111654 - Val_Acc: 64.559092\n"
     ]
    },
    {
     "ename": "KeyboardInterrupt",
     "evalue": "",
     "output_type": "error",
     "traceback": [
      "\u001b[1;31m---------------------------------------------------------------------------\u001b[0m",
      "\u001b[1;31mKeyboardInterrupt\u001b[0m                         Traceback (most recent call last)",
      "\u001b[1;32m<ipython-input-13-7cf3cb72b40d>\u001b[0m in \u001b[0;36m<module>\u001b[1;34m()\u001b[0m\n\u001b[0;32m     43\u001b[0m             \u001b[0moutput\u001b[0m \u001b[1;33m=\u001b[0m \u001b[0mmodel\u001b[0m\u001b[1;33m(\u001b[0m\u001b[0mdata\u001b[0m\u001b[1;33m)\u001b[0m\u001b[1;33m\u001b[0m\u001b[1;33m\u001b[0m\u001b[0m\n\u001b[0;32m     44\u001b[0m             \u001b[0mloss\u001b[0m \u001b[1;33m=\u001b[0m \u001b[0mtrain_criterion\u001b[0m\u001b[1;33m(\u001b[0m\u001b[0moutput\u001b[0m\u001b[1;33m,\u001b[0m \u001b[0mtarget\u001b[0m\u001b[1;33m)\u001b[0m\u001b[1;33m\u001b[0m\u001b[1;33m\u001b[0m\u001b[0m\n\u001b[1;32m---> 45\u001b[1;33m             \u001b[0mloss\u001b[0m\u001b[1;33m.\u001b[0m\u001b[0mbackward\u001b[0m\u001b[1;33m(\u001b[0m\u001b[1;33m)\u001b[0m\u001b[1;33m\u001b[0m\u001b[1;33m\u001b[0m\u001b[0m\n\u001b[0m\u001b[0;32m     46\u001b[0m             \u001b[0moptimizer\u001b[0m\u001b[1;33m.\u001b[0m\u001b[0mstep\u001b[0m\u001b[1;33m(\u001b[0m\u001b[1;33m)\u001b[0m\u001b[1;33m\u001b[0m\u001b[1;33m\u001b[0m\u001b[0m\n\u001b[0;32m     47\u001b[0m \u001b[1;33m\u001b[0m\u001b[0m\n",
      "\u001b[1;32mC:\\Users\\tsuchiya\\miniconda3\\envs\\env_pytorch\\lib\\site-packages\\torch\\tensor.py\u001b[0m in \u001b[0;36mbackward\u001b[1;34m(self, gradient, retain_graph, create_graph)\u001b[0m\n\u001b[0;32m    193\u001b[0m                 \u001b[0mproducts\u001b[0m\u001b[1;33m.\u001b[0m \u001b[0mDefaults\u001b[0m \u001b[0mto\u001b[0m\u001b[0;31m \u001b[0m\u001b[0;31m`\u001b[0m\u001b[0;31m`\u001b[0m\u001b[1;32mFalse\u001b[0m\u001b[0;31m`\u001b[0m\u001b[0;31m`\u001b[0m\u001b[1;33m.\u001b[0m\u001b[1;33m\u001b[0m\u001b[1;33m\u001b[0m\u001b[0m\n\u001b[0;32m    194\u001b[0m         \"\"\"\n\u001b[1;32m--> 195\u001b[1;33m         \u001b[0mtorch\u001b[0m\u001b[1;33m.\u001b[0m\u001b[0mautograd\u001b[0m\u001b[1;33m.\u001b[0m\u001b[0mbackward\u001b[0m\u001b[1;33m(\u001b[0m\u001b[0mself\u001b[0m\u001b[1;33m,\u001b[0m \u001b[0mgradient\u001b[0m\u001b[1;33m,\u001b[0m \u001b[0mretain_graph\u001b[0m\u001b[1;33m,\u001b[0m \u001b[0mcreate_graph\u001b[0m\u001b[1;33m)\u001b[0m\u001b[1;33m\u001b[0m\u001b[1;33m\u001b[0m\u001b[0m\n\u001b[0m\u001b[0;32m    196\u001b[0m \u001b[1;33m\u001b[0m\u001b[0m\n\u001b[0;32m    197\u001b[0m     \u001b[1;32mdef\u001b[0m \u001b[0mregister_hook\u001b[0m\u001b[1;33m(\u001b[0m\u001b[0mself\u001b[0m\u001b[1;33m,\u001b[0m \u001b[0mhook\u001b[0m\u001b[1;33m)\u001b[0m\u001b[1;33m:\u001b[0m\u001b[1;33m\u001b[0m\u001b[1;33m\u001b[0m\u001b[0m\n",
      "\u001b[1;32mC:\\Users\\tsuchiya\\miniconda3\\envs\\env_pytorch\\lib\\site-packages\\torch\\autograd\\__init__.py\u001b[0m in \u001b[0;36mbackward\u001b[1;34m(tensors, grad_tensors, retain_graph, create_graph, grad_variables)\u001b[0m\n\u001b[0;32m     97\u001b[0m     Variable._execution_engine.run_backward(\n\u001b[0;32m     98\u001b[0m         \u001b[0mtensors\u001b[0m\u001b[1;33m,\u001b[0m \u001b[0mgrad_tensors\u001b[0m\u001b[1;33m,\u001b[0m \u001b[0mretain_graph\u001b[0m\u001b[1;33m,\u001b[0m \u001b[0mcreate_graph\u001b[0m\u001b[1;33m,\u001b[0m\u001b[1;33m\u001b[0m\u001b[1;33m\u001b[0m\u001b[0m\n\u001b[1;32m---> 99\u001b[1;33m         allow_unreachable=True)  # allow_unreachable flag\n\u001b[0m\u001b[0;32m    100\u001b[0m \u001b[1;33m\u001b[0m\u001b[0m\n\u001b[0;32m    101\u001b[0m \u001b[1;33m\u001b[0m\u001b[0m\n",
      "\u001b[1;31mKeyboardInterrupt\u001b[0m: "
     ]
    }
   ],
   "source": [
    "# n_splitsでKの数を指定\n",
    "folds = StratifiedKFold(n_splits=CFG.n_split).split(np.arange(df_train.shape[0]), df_train[\"label\"].values)\n",
    "for fold_index, (train_index,val_index) in enumerate(folds):\n",
    "    \n",
    "    model = EfficientNet.from_pretrained(CFG.model_name)\n",
    "    num_ftrs = model._fc.in_features\n",
    "    model._fc = nn.Linear(num_ftrs, CFG.target_size)\n",
    "    model = model.to(device)\n",
    "    optimizer = optim.Adam(model.parameters(), lr=CFG.learning_rate)\n",
    "    \n",
    "    train = df_train.iloc[train_index].reset_index(drop=True)\n",
    "    train_data = ImageData(df = train, data_dir = train_dir, transform = data_transforms)\n",
    "    train_loader = DataLoader(dataset = train_data, batch_size = CFG.batch_size, num_workers=CFG.num_workers, pin_memory=True,shuffle=True)\n",
    "    train_criterion = nn.CrossEntropyLoss().to(device)\n",
    "    \n",
    "    val = df_train.iloc[val_index,:].reset_index(drop=True)\n",
    "    val_data = ImageData(df = val, data_dir = train_dir, transform = data_transforms)\n",
    "    val_loader = DataLoader(dataset = val_data, batch_size = CFG.batch_size, num_workers=CFG.num_workers, pin_memory=True,shuffle=True)\n",
    "    val_criterion = nn.CrossEntropyLoss().to(device)   \n",
    "    train_epoch_log = []\n",
    "    train_acc_log = []\n",
    "    val_epoch_log = []\n",
    "    val_acc_log = []\n",
    "    \n",
    "    for epoch in range(num_epochs):\n",
    "        train_total = 0\n",
    "        train_correct = 0\n",
    "        train_loss_sum = 0\n",
    "        val_total = 0\n",
    "        val_correct = 0\n",
    "        val_loss_sum = 0\n",
    "        \n",
    "        # train\n",
    "        model.train()\n",
    "        for idx, (data, target) in enumerate(train_loader):\n",
    "            data, target = data.to(device), target.to(device)\n",
    "            optimizer.zero_grad()\n",
    "            output = model(data)\n",
    "            loss = train_criterion(output, target)\n",
    "            loss.backward()\n",
    "            optimizer.step()  \n",
    "            \n",
    "            train_loss_sum += loss.item()\n",
    "            train_total += target.size(0)\n",
    "            _,predicted = output.max(1)\n",
    "            train_correct += predicted.eq(target).sum().item()\n",
    "\n",
    "            \n",
    "        train_loss = train_loss_sum / len(train_loader)\n",
    "        train_epoch_log.append(train_loss)\n",
    "        train_acc = 100.0 * train_correct/train_total\n",
    "        train_acc_log.append(train_acc)\n",
    "        \n",
    "        # val\n",
    "        model.eval()\n",
    "        with torch.no_grad():\n",
    "            for idx, (data, target) in enumerate(val_loader):\n",
    "                data, target = data.to(device), target.to(device)\n",
    "                output = model(data)\n",
    "                loss = val_criterion(output, target)\n",
    "                val_loss_sum += loss.item()\n",
    "                val_total += target.size(0)\n",
    "                _,predicted = output.max(1)\n",
    "                val_correct += (predicted == target).sum().item()\n",
    "                    \n",
    "            val_loss = val_loss_sum / len(val_loader)\n",
    "            val_epoch_log.append(val_loss)\n",
    "            val_acc = 100.0 * val_correct/val_total\n",
    "            val_acc_log.append(val_acc)\n",
    "                \n",
    "        print('Kfold: {} - Epoch: {} - Train_Loss: {:.6f} - Train_Acc: {:.4f} - Val_Loss: {:.6f} - Val_Acc: {:4f}'.format(fold_index+1, epoch + 1, train_loss, train_acc, val_loss, val_acc))\n",
    "        \n",
    "        if (val_loss < CFG.checkpoint_thres_loss) & (val_acc > CFG.checkpoint_thres_acc):\n",
    "            CFG.checkpoint_thres_loss = val_loss\n",
    "            CFG.checkpoint_thres_acc = val_acc\n",
    "            path = create_directory + \"./efficientb1_epoch\"+str(epoch)+ \"_Acc_\" + str(val_acc) + '.pth'\n",
    "            torch.save(model.state_dict(), path) \n",
    "        \n",
    "    Plot_Model_History(train_epoch_log,train_acc_log,val_epoch_log,val_acc_log)"
   ]
  },
  {
   "cell_type": "code",
   "execution_count": null,
   "metadata": {},
   "outputs": [],
   "source": []
  },
  {
   "cell_type": "code",
   "execution_count": null,
   "metadata": {},
   "outputs": [],
   "source": []
  }
 ],
 "metadata": {
  "kernelspec": {
   "display_name": "Python 3",
   "language": "python",
   "name": "python3"
  },
  "language_info": {
   "codemirror_mode": {
    "name": "ipython",
    "version": 3
   },
   "file_extension": ".py",
   "mimetype": "text/x-python",
   "name": "python",
   "nbconvert_exporter": "python",
   "pygments_lexer": "ipython3",
   "version": "3.6.12"
  }
 },
 "nbformat": 4,
 "nbformat_minor": 4
}
