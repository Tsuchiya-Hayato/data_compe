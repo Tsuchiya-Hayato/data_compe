{
 "cells": [
  {
   "cell_type": "code",
   "execution_count": 1,
   "metadata": {},
   "outputs": [],
   "source": [
    "import numpy as np # linear algebra\n",
    "import pandas as pd # data processing, CSV file I/O (e.g. pd.read_csv)\n",
    "\n",
    "import os\n",
    "import sys\n",
    "\n",
    "from efficientnet_pytorch import EfficientNet\n",
    "import torch\n",
    "import torch.nn as nn\n",
    "import torch.optim as optim \n",
    "from torch.utils.data import DataLoader, Dataset\n",
    "import torch.utils.data as utils\n",
    "import torchvision\n",
    "from torchvision import datasets, models, transforms\n",
    "\n",
    "from sklearn.model_selection import GroupKFold, StratifiedKFold\n",
    "from tqdm import tqdm\n",
    "import shutil\n",
    "import matplotlib.pyplot as plt\n",
    "%matplotlib inline\n",
    "import random\n",
    "import warnings\n",
    "warnings.filterwarnings(\"ignore\")"
   ]
  },
  {
   "cell_type": "code",
   "execution_count": 2,
   "metadata": {},
   "outputs": [
    {
     "name": "stdout",
     "output_type": "stream",
     "text": [
      "../../../data/cassava-leaf-disease-classification\\train_images/\n"
     ]
    }
   ],
   "source": [
    "BASE_DIR = \"../../../data/cassava-leaf-disease-classification\"\n",
    "train_dir = os.path.join(BASE_DIR, 'train_images/')\n",
    "test_dir = os.path.join(BASE_DIR, \"test_images/\")\n",
    "print(train_dir)"
   ]
  },
  {
   "cell_type": "code",
   "execution_count": 3,
   "metadata": {},
   "outputs": [],
   "source": [
    "#日付を取得\n",
    "import datetime as dt\n",
    "\n",
    "dt_now = dt.datetime.now()\n",
    "directory_name = dt_now.strftime('%Y%m%d%H')\n",
    "create_directory = BASE_DIR + '/models/' + directory_name\n",
    "if(not (os.path.exists(create_directory))):\n",
    "    os.mkdir(create_directory)"
   ]
  },
  {
   "cell_type": "code",
   "execution_count": 4,
   "metadata": {},
   "outputs": [],
   "source": [
    "## config\n",
    "class CFG:\n",
    "    num_workers=0\n",
    "    model_name='efficientnet-b1'\n",
    "    size=240\n",
    "    batch_size=16\n",
    "    target_size=5\n",
    "    target_col='label'\n",
    "    n_fold=3\n",
    "    seed = 2021\n",
    "    learning_rate = 1e-5\n",
    "    num_epochs = 20\n",
    "    n_split = 3\n",
    "    checkpoint_thres_loss = 0.1\n",
    "    checkpoint_thres_acc = 80\n",
    "    weights=torch.tensor([0.50, 1.0, 1.1, 6.1, 1.2]) #see 000_EDA.ipynb"
   ]
  },
  {
   "cell_type": "code",
   "execution_count": 5,
   "metadata": {},
   "outputs": [],
   "source": [
    "np.random.seed(CFG.seed)\n",
    "random.seed(CFG.seed)\n",
    "torch.manual_seed(CFG.seed)\n",
    "torch.cuda.manual_seed(CFG.seed)"
   ]
  },
  {
   "cell_type": "code",
   "execution_count": 6,
   "metadata": {},
   "outputs": [
    {
     "data": {
      "text/html": [
       "<div>\n",
       "<style scoped>\n",
       "    .dataframe tbody tr th:only-of-type {\n",
       "        vertical-align: middle;\n",
       "    }\n",
       "\n",
       "    .dataframe tbody tr th {\n",
       "        vertical-align: top;\n",
       "    }\n",
       "\n",
       "    .dataframe thead th {\n",
       "        text-align: right;\n",
       "    }\n",
       "</style>\n",
       "<table border=\"1\" class=\"dataframe\">\n",
       "  <thead>\n",
       "    <tr style=\"text-align: right;\">\n",
       "      <th></th>\n",
       "      <th>image_id</th>\n",
       "      <th>label</th>\n",
       "    </tr>\n",
       "  </thead>\n",
       "  <tbody>\n",
       "    <tr>\n",
       "      <th>0</th>\n",
       "      <td>1000015157.jpg</td>\n",
       "      <td>0</td>\n",
       "    </tr>\n",
       "    <tr>\n",
       "      <th>1</th>\n",
       "      <td>1000201771.jpg</td>\n",
       "      <td>3</td>\n",
       "    </tr>\n",
       "    <tr>\n",
       "      <th>2</th>\n",
       "      <td>100042118.jpg</td>\n",
       "      <td>1</td>\n",
       "    </tr>\n",
       "    <tr>\n",
       "      <th>3</th>\n",
       "      <td>1000723321.jpg</td>\n",
       "      <td>1</td>\n",
       "    </tr>\n",
       "    <tr>\n",
       "      <th>4</th>\n",
       "      <td>1000812911.jpg</td>\n",
       "      <td>3</td>\n",
       "    </tr>\n",
       "  </tbody>\n",
       "</table>\n",
       "</div>"
      ],
      "text/plain": [
       "         image_id  label\n",
       "0  1000015157.jpg      0\n",
       "1  1000201771.jpg      3\n",
       "2   100042118.jpg      1\n",
       "3  1000723321.jpg      1\n",
       "4  1000812911.jpg      3"
      ]
     },
     "execution_count": 6,
     "metadata": {},
     "output_type": "execute_result"
    }
   ],
   "source": [
    "df_train = pd.read_csv(BASE_DIR + \"/train.csv\")\n",
    "df_train.head()\n"
   ]
  },
  {
   "cell_type": "code",
   "execution_count": 7,
   "metadata": {},
   "outputs": [
    {
     "name": "stdout",
     "output_type": "stream",
     "text": [
      "Loaded pretrained weights for efficientnet-b1\n"
     ]
    }
   ],
   "source": [
    "\n",
    "model = EfficientNet.from_pretrained(CFG.model_name)\n",
    "num_ftrs = model._fc.in_features\n",
    "model._fc = nn.Linear(num_ftrs, CFG.target_size)"
   ]
  },
  {
   "cell_type": "code",
   "execution_count": 8,
   "metadata": {},
   "outputs": [
    {
     "name": "stdout",
     "output_type": "stream",
     "text": [
      "cuda:0\n",
      "GeForce RTX 2060\n",
      "Memory Usage:\n",
      "Allocated: 0.0 GB\n",
      "Cached:    0.0 GB\n"
     ]
    }
   ],
   "source": [
    "device = torch.device(\"cuda:0\" if torch.cuda.is_available() else \"cpu\")\n",
    "print(device)\n",
    "if device.type == 'cuda':\n",
    "    print(torch.cuda.get_device_name(0))\n",
    "    print('Memory Usage:')\n",
    "    print('Allocated:', round(torch.cuda.memory_allocated(0)/1024**3,1), 'GB')\n",
    "    print('Cached:   ', round(torch.cuda.memory_cached(0)/1024**3,1), 'GB')"
   ]
  },
  {
   "cell_type": "code",
   "execution_count": 9,
   "metadata": {},
   "outputs": [],
   "source": [
    "data_transforms = transforms.Compose([\n",
    "        transforms.ToPILImage(),\n",
    "        transforms.Resize(240),\n",
    "#         transforms.RandomResizedCrop(224),\n",
    "#         transforms.RandomHorizontalFlip(),\n",
    "        transforms.ToTensor(),\n",
    "        transforms.Normalize([0.485, 0.456, 0.406], [0.229, 0.224, 0.225])\n",
    "        ])"
   ]
  },
  {
   "cell_type": "code",
   "execution_count": 10,
   "metadata": {},
   "outputs": [],
   "source": [
    "class ImageData(Dataset):\n",
    "    def __init__(self, df, data_dir, transform, output_label=True):\n",
    "        super().__init__()\n",
    "        self.df = df\n",
    "        self.data_dir = data_dir\n",
    "        self.transform = transform\n",
    "        self.output_label = output_label\n",
    "\n",
    "    def __len__(self):\n",
    "        return len(self.df)\n",
    "    \n",
    "    def __getitem__(self, index):       \n",
    "        img_name = self.df.iloc[index,0]\n",
    "        if self.output_label:\n",
    "            label = self.df.iloc[index,1]\n",
    "        \n",
    "        img_path = os.path.join(self.data_dir, img_name)\n",
    "        image = plt.imread(img_path)\n",
    "        image = self.transform(image)\n",
    "\n",
    "        # do label smoothing\n",
    "        if self.output_label == True:\n",
    "            return image, label\n",
    "        else:\n",
    "            return image"
   ]
  },
  {
   "cell_type": "code",
   "execution_count": 11,
   "metadata": {},
   "outputs": [],
   "source": [
    "def Plot_Model_History(loss_tra_li,acc_tra_li,loss_val_li,acc_val_li):\n",
    "    plt.figure(figsize=(12, 5))\n",
    "    plt.subplot(2, 2, 1)\n",
    "    plt.plot(loss_tra_li, label=\"train_loss\")\n",
    "    plt.plot(loss_val_li, label=\"val_loss\")\n",
    "    plt.legend()\n",
    "    plt.subplot(2, 2, 2)\n",
    "    plt.plot(acc_tra_li, label=\"train_acc\")\n",
    "    plt.plot(acc_val_li, label=\"val_acc\")\n",
    "    plt.legend()\n",
    "    plt.show()\n",
    "    \n",
    "def Save_histroy(init=False):\n",
    "    filename = \"./log/\" + directory_name\n",
    "    if init:\n",
    "        with open(filename+'.txt','w') as f:\n",
    "            f.write(\"model: {}, lr: {}, weights: {}. batchsize: {}, kfold: {}, epoch: {}\\n\" .format(CFG.model_name,CFG.learning_rate,CFG.weights, CFG.batch_size,CFG.n_split,CFG.num_epochs))\n",
    "    else:\n",
    "        with open(filename+'.txt',mode='a') as f:\n",
    "            f.write('\\nkfold: {}, epoch: {}. train_loss: {}, train_acc: {}. val_loss: {}, val_acc: {}' .format(fold_index+1, epoch + 1, train_loss, train_acc, val_loss, val_acc))"
   ]
  },
  {
   "cell_type": "code",
   "execution_count": 12,
   "metadata": {},
   "outputs": [
    {
     "name": "stdout",
     "output_type": "stream",
     "text": [
      "Loaded pretrained weights for efficientnet-b1\n",
      "Kfold: 1 - Epoch: 1 - Train_Loss: 0.681025 - Train_Acc: 62.0233 - Val_Loss: 0.360149 - Val_Acc: 66.690032\n",
      "Kfold: 1 - Epoch: 2 - Train_Loss: 0.306154 - Train_Acc: 67.0429 - Val_Loss: 0.292860 - Val_Acc: 70.138792\n",
      "Kfold: 1 - Epoch: 3 - Train_Loss: 0.265558 - Train_Acc: 69.4966 - Val_Loss: 0.264792 - Val_Acc: 72.886583\n",
      "Kfold: 1 - Epoch: 4 - Train_Loss: 0.242376 - Train_Acc: 72.2308 - Val_Loss: 0.243302 - Val_Acc: 75.886724\n",
      "Kfold: 1 - Epoch: 5 - Train_Loss: 0.213314 - Train_Acc: 75.0631 - Val_Loss: 0.231441 - Val_Acc: 78.620496\n",
      "Kfold: 1 - Epoch: 6 - Train_Loss: 0.197242 - Train_Acc: 77.4537 - Val_Loss: 0.219162 - Val_Acc: 79.629889\n",
      "Kfold: 1 - Epoch: 7 - Train_Loss: 0.178955 - Train_Acc: 79.2555 - Val_Loss: 0.214087 - Val_Acc: 80.274779\n",
      "Kfold: 1 - Epoch: 8 - Train_Loss: 0.166286 - Train_Acc: 80.4823 - Val_Loss: 0.211421 - Val_Acc: 81.073882\n",
      "Kfold: 1 - Epoch: 9 - Train_Loss: 0.152319 - Train_Acc: 81.4358 - Val_Loss: 0.211134 - Val_Acc: 81.550540\n",
      "Kfold: 1 - Epoch: 10 - Train_Loss: 0.140089 - Train_Acc: 83.2095 - Val_Loss: 0.220081 - Val_Acc: 81.943081\n",
      "Kfold: 1 - Epoch: 11 - Train_Loss: 0.132198 - Train_Acc: 83.6652 - Val_Loss: 0.218757 - Val_Acc: 82.027198\n",
      "Kfold: 1 - Epoch: 12 - Train_Loss: 0.123621 - Train_Acc: 84.4924 - Val_Loss: 0.227112 - Val_Acc: 82.139352\n",
      "Kfold: 1 - Epoch: 13 - Train_Loss: 0.114385 - Train_Acc: 85.7824 - Val_Loss: 0.223403 - Val_Acc: 82.503855\n",
      "Kfold: 1 - Epoch: 14 - Train_Loss: 0.103351 - Train_Acc: 86.2311 - Val_Loss: 0.245579 - Val_Acc: 82.587971\n",
      "Kfold: 1 - Epoch: 15 - Train_Loss: 0.102619 - Train_Acc: 86.5115 - Val_Loss: 0.240973 - Val_Acc: 82.644049\n",
      "Kfold: 1 - Epoch: 16 - Train_Loss: 0.097311 - Train_Acc: 87.4089 - Val_Loss: 0.254563 - Val_Acc: 82.630029\n",
      "Kfold: 1 - Epoch: 17 - Train_Loss: 0.090447 - Train_Acc: 88.3132 - Val_Loss: 0.257571 - Val_Acc: 82.489836\n",
      "Kfold: 1 - Epoch: 18 - Train_Loss: 0.083762 - Train_Acc: 88.5867 - Val_Loss: 0.275142 - Val_Acc: 82.475817\n",
      "Kfold: 1 - Epoch: 19 - Train_Loss: 0.081967 - Train_Acc: 88.9933 - Val_Loss: 0.257819 - Val_Acc: 82.854339\n",
      "Kfold: 1 - Epoch: 20 - Train_Loss: 0.078182 - Train_Acc: 89.5471 - Val_Loss: 0.272363 - Val_Acc: 82.756204\n"
     ]
    },
    {
     "data": {
      "image/png": "[encoded data removed]",
      "text/plain": [
       "<Figure size 864x360 with 2 Axes>"
      ]
     },
     "metadata": {
      "needs_background": "light"
     },
     "output_type": "display_data"
    },
    {
     "name": "stdout",
     "output_type": "stream",
     "text": [
      "Loaded pretrained weights for efficientnet-b1\n",
      "Kfold: 2 - Epoch: 1 - Train_Loss: 0.675598 - Train_Acc: 60.7781 - Val_Loss: 0.353631 - Val_Acc: 66.993831\n",
      "Kfold: 2 - Epoch: 2 - Train_Loss: 0.314050 - Train_Acc: 66.2601 - Val_Loss: 0.288289 - Val_Acc: 68.788559\n",
      "Kfold: 2 - Epoch: 3 - Train_Loss: 0.270314 - Train_Acc: 68.8048 - Val_Loss: 0.253127 - Val_Acc: 72.069546\n",
      "Kfold: 2 - Epoch: 4 - Train_Loss: 0.239435 - Train_Acc: 72.0505 - Val_Loss: 0.230863 - Val_Acc: 75.687044\n",
      "Kfold: 2 - Epoch: 5 - Train_Loss: 0.218325 - Train_Acc: 74.8335 - Val_Loss: 0.210489 - Val_Acc: 78.238923\n",
      "Kfold: 2 - Epoch: 6 - Train_Loss: 0.196286 - Train_Acc: 77.3782 - Val_Loss: 0.203761 - Val_Acc: 79.641054\n",
      "Kfold: 2 - Epoch: 7 - Train_Loss: 0.181608 - Train_Acc: 78.9765 - Val_Loss: 0.199339 - Val_Acc: 80.734717\n",
      "Kfold: 2 - Epoch: 8 - Train_Loss: 0.168419 - Train_Acc: 80.1823 - Val_Loss: 0.196694 - Val_Acc: 81.575996\n",
      "Kfold: 2 - Epoch: 9 - Train_Loss: 0.155758 - Train_Acc: 81.1847 - Val_Loss: 0.194522 - Val_Acc: 82.136848\n",
      "Kfold: 2 - Epoch: 10 - Train_Loss: 0.146403 - Train_Acc: 82.4255 - Val_Loss: 0.196263 - Val_Acc: 82.473360\n",
      "Kfold: 2 - Epoch: 11 - Train_Loss: 0.138843 - Train_Acc: 83.1896 - Val_Loss: 0.199383 - Val_Acc: 82.823892\n",
      "Kfold: 2 - Epoch: 12 - Train_Loss: 0.129245 - Train_Acc: 84.3183 - Val_Loss: 0.198487 - Val_Acc: 82.879978\n",
      "Kfold: 2 - Epoch: 13 - Train_Loss: 0.119647 - Train_Acc: 85.2506 - Val_Loss: 0.204677 - Val_Acc: 83.356702\n",
      "Kfold: 2 - Epoch: 14 - Train_Loss: 0.109979 - Train_Acc: 85.9026 - Val_Loss: 0.209341 - Val_Acc: 83.398766\n",
      "Kfold: 2 - Epoch: 15 - Train_Loss: 0.102165 - Train_Acc: 86.6036 - Val_Loss: 0.214715 - Val_Acc: 83.426809\n",
      "Kfold: 2 - Epoch: 16 - Train_Loss: 0.097496 - Train_Acc: 87.4658 - Val_Loss: 0.235413 - Val_Acc: 83.426809\n",
      "Kfold: 2 - Epoch: 17 - Train_Loss: 0.095537 - Train_Acc: 87.7953 - Val_Loss: 0.227289 - Val_Acc: 83.833427\n"
     ]
    },
    {
     "ename": "KeyboardInterrupt",
     "evalue": "",
     "output_type": "error",
     "traceback": [
      "\u001b[1;31m---------------------------------------------------------------------------\u001b[0m",
      "\u001b[1;31mKeyboardInterrupt\u001b[0m                         Traceback (most recent call last)",
      "\u001b[1;32m<ipython-input-12-a20685159ce2>\u001b[0m in \u001b[0;36m<module>\u001b[1;34m()\u001b[0m\n\u001b[0;32m     55\u001b[0m         \u001b[0mmodel\u001b[0m\u001b[1;33m.\u001b[0m\u001b[0meval\u001b[0m\u001b[1;33m(\u001b[0m\u001b[1;33m)\u001b[0m\u001b[1;33m\u001b[0m\u001b[1;33m\u001b[0m\u001b[0m\n\u001b[0;32m     56\u001b[0m         \u001b[1;32mwith\u001b[0m \u001b[0mtorch\u001b[0m\u001b[1;33m.\u001b[0m\u001b[0mno_grad\u001b[0m\u001b[1;33m(\u001b[0m\u001b[1;33m)\u001b[0m\u001b[1;33m:\u001b[0m\u001b[1;33m\u001b[0m\u001b[1;33m\u001b[0m\u001b[0m\n\u001b[1;32m---> 57\u001b[1;33m             \u001b[1;32mfor\u001b[0m \u001b[0midx\u001b[0m\u001b[1;33m,\u001b[0m \u001b[1;33m(\u001b[0m\u001b[0mdata\u001b[0m\u001b[1;33m,\u001b[0m \u001b[0mtarget\u001b[0m\u001b[1;33m)\u001b[0m \u001b[1;32min\u001b[0m \u001b[0menumerate\u001b[0m\u001b[1;33m(\u001b[0m\u001b[0mval_loader\u001b[0m\u001b[1;33m)\u001b[0m\u001b[1;33m:\u001b[0m\u001b[1;33m\u001b[0m\u001b[1;33m\u001b[0m\u001b[0m\n\u001b[0m\u001b[0;32m     58\u001b[0m                 \u001b[0mdata\u001b[0m\u001b[1;33m,\u001b[0m \u001b[0mtarget\u001b[0m \u001b[1;33m=\u001b[0m \u001b[0mdata\u001b[0m\u001b[1;33m.\u001b[0m\u001b[0mto\u001b[0m\u001b[1;33m(\u001b[0m\u001b[0mdevice\u001b[0m\u001b[1;33m)\u001b[0m\u001b[1;33m,\u001b[0m \u001b[0mtarget\u001b[0m\u001b[1;33m.\u001b[0m\u001b[0mto\u001b[0m\u001b[1;33m(\u001b[0m\u001b[0mdevice\u001b[0m\u001b[1;33m)\u001b[0m\u001b[1;33m\u001b[0m\u001b[1;33m\u001b[0m\u001b[0m\n\u001b[0;32m     59\u001b[0m                 \u001b[0moutput\u001b[0m \u001b[1;33m=\u001b[0m \u001b[0mmodel\u001b[0m\u001b[1;33m(\u001b[0m\u001b[0mdata\u001b[0m\u001b[1;33m)\u001b[0m\u001b[1;33m\u001b[0m\u001b[1;33m\u001b[0m\u001b[0m\n",
      "\u001b[1;32mC:\\Users\\tsuchiya\\miniconda3\\envs\\env_pytorch\\lib\\site-packages\\torch\\utils\\data\\dataloader.py\u001b[0m in \u001b[0;36m__next__\u001b[1;34m(self)\u001b[0m\n\u001b[0;32m    343\u001b[0m \u001b[1;33m\u001b[0m\u001b[0m\n\u001b[0;32m    344\u001b[0m     \u001b[1;32mdef\u001b[0m \u001b[0m__next__\u001b[0m\u001b[1;33m(\u001b[0m\u001b[0mself\u001b[0m\u001b[1;33m)\u001b[0m\u001b[1;33m:\u001b[0m\u001b[1;33m\u001b[0m\u001b[1;33m\u001b[0m\u001b[0m\n\u001b[1;32m--> 345\u001b[1;33m         \u001b[0mdata\u001b[0m \u001b[1;33m=\u001b[0m \u001b[0mself\u001b[0m\u001b[1;33m.\u001b[0m\u001b[0m_next_data\u001b[0m\u001b[1;33m(\u001b[0m\u001b[1;33m)\u001b[0m\u001b[1;33m\u001b[0m\u001b[1;33m\u001b[0m\u001b[0m\n\u001b[0m\u001b[0;32m    346\u001b[0m         \u001b[0mself\u001b[0m\u001b[1;33m.\u001b[0m\u001b[0m_num_yielded\u001b[0m \u001b[1;33m+=\u001b[0m \u001b[1;36m1\u001b[0m\u001b[1;33m\u001b[0m\u001b[1;33m\u001b[0m\u001b[0m\n\u001b[0;32m    347\u001b[0m         \u001b[1;32mif\u001b[0m \u001b[0mself\u001b[0m\u001b[1;33m.\u001b[0m\u001b[0m_dataset_kind\u001b[0m \u001b[1;33m==\u001b[0m \u001b[0m_DatasetKind\u001b[0m\u001b[1;33m.\u001b[0m\u001b[0mIterable\u001b[0m \u001b[1;32mand\u001b[0m\u001b[0;31m \u001b[0m\u001b[0;31m\\\u001b[0m\u001b[1;33m\u001b[0m\u001b[1;33m\u001b[0m\u001b[0m\n",
      "\u001b[1;32mC:\\Users\\tsuchiya\\miniconda3\\envs\\env_pytorch\\lib\\site-packages\\torch\\utils\\data\\dataloader.py\u001b[0m in \u001b[0;36m_next_data\u001b[1;34m(self)\u001b[0m\n\u001b[0;32m    383\u001b[0m     \u001b[1;32mdef\u001b[0m \u001b[0m_next_data\u001b[0m\u001b[1;33m(\u001b[0m\u001b[0mself\u001b[0m\u001b[1;33m)\u001b[0m\u001b[1;33m:\u001b[0m\u001b[1;33m\u001b[0m\u001b[1;33m\u001b[0m\u001b[0m\n\u001b[0;32m    384\u001b[0m         \u001b[0mindex\u001b[0m \u001b[1;33m=\u001b[0m \u001b[0mself\u001b[0m\u001b[1;33m.\u001b[0m\u001b[0m_next_index\u001b[0m\u001b[1;33m(\u001b[0m\u001b[1;33m)\u001b[0m  \u001b[1;31m# may raise StopIteration\u001b[0m\u001b[1;33m\u001b[0m\u001b[1;33m\u001b[0m\u001b[0m\n\u001b[1;32m--> 385\u001b[1;33m         \u001b[0mdata\u001b[0m \u001b[1;33m=\u001b[0m \u001b[0mself\u001b[0m\u001b[1;33m.\u001b[0m\u001b[0m_dataset_fetcher\u001b[0m\u001b[1;33m.\u001b[0m\u001b[0mfetch\u001b[0m\u001b[1;33m(\u001b[0m\u001b[0mindex\u001b[0m\u001b[1;33m)\u001b[0m  \u001b[1;31m# may raise StopIteration\u001b[0m\u001b[1;33m\u001b[0m\u001b[1;33m\u001b[0m\u001b[0m\n\u001b[0m\u001b[0;32m    386\u001b[0m         \u001b[1;32mif\u001b[0m \u001b[0mself\u001b[0m\u001b[1;33m.\u001b[0m\u001b[0m_pin_memory\u001b[0m\u001b[1;33m:\u001b[0m\u001b[1;33m\u001b[0m\u001b[1;33m\u001b[0m\u001b[0m\n\u001b[0;32m    387\u001b[0m             \u001b[0mdata\u001b[0m \u001b[1;33m=\u001b[0m \u001b[0m_utils\u001b[0m\u001b[1;33m.\u001b[0m\u001b[0mpin_memory\u001b[0m\u001b[1;33m.\u001b[0m\u001b[0mpin_memory\u001b[0m\u001b[1;33m(\u001b[0m\u001b[0mdata\u001b[0m\u001b[1;33m)\u001b[0m\u001b[1;33m\u001b[0m\u001b[1;33m\u001b[0m\u001b[0m\n",
      "\u001b[1;32mC:\\Users\\tsuchiya\\miniconda3\\envs\\env_pytorch\\lib\\site-packages\\torch\\utils\\data\\_utils\\fetch.py\u001b[0m in \u001b[0;36mfetch\u001b[1;34m(self, possibly_batched_index)\u001b[0m\n\u001b[0;32m     45\u001b[0m         \u001b[1;32melse\u001b[0m\u001b[1;33m:\u001b[0m\u001b[1;33m\u001b[0m\u001b[1;33m\u001b[0m\u001b[0m\n\u001b[0;32m     46\u001b[0m             \u001b[0mdata\u001b[0m \u001b[1;33m=\u001b[0m \u001b[0mself\u001b[0m\u001b[1;33m.\u001b[0m\u001b[0mdataset\u001b[0m\u001b[1;33m[\u001b[0m\u001b[0mpossibly_batched_index\u001b[0m\u001b[1;33m]\u001b[0m\u001b[1;33m\u001b[0m\u001b[1;33m\u001b[0m\u001b[0m\n\u001b[1;32m---> 47\u001b[1;33m         \u001b[1;32mreturn\u001b[0m \u001b[0mself\u001b[0m\u001b[1;33m.\u001b[0m\u001b[0mcollate_fn\u001b[0m\u001b[1;33m(\u001b[0m\u001b[0mdata\u001b[0m\u001b[1;33m)\u001b[0m\u001b[1;33m\u001b[0m\u001b[1;33m\u001b[0m\u001b[0m\n\u001b[0m",
      "\u001b[1;32mC:\\Users\\tsuchiya\\miniconda3\\envs\\env_pytorch\\lib\\site-packages\\torch\\utils\\data\\_utils\\collate.py\u001b[0m in \u001b[0;36mdefault_collate\u001b[1;34m(batch)\u001b[0m\n\u001b[0;32m     77\u001b[0m     \u001b[1;32melif\u001b[0m \u001b[0misinstance\u001b[0m\u001b[1;33m(\u001b[0m\u001b[0melem\u001b[0m\u001b[1;33m,\u001b[0m \u001b[0mcontainer_abcs\u001b[0m\u001b[1;33m.\u001b[0m\u001b[0mSequence\u001b[0m\u001b[1;33m)\u001b[0m\u001b[1;33m:\u001b[0m\u001b[1;33m\u001b[0m\u001b[1;33m\u001b[0m\u001b[0m\n\u001b[0;32m     78\u001b[0m         \u001b[0mtransposed\u001b[0m \u001b[1;33m=\u001b[0m \u001b[0mzip\u001b[0m\u001b[1;33m(\u001b[0m\u001b[1;33m*\u001b[0m\u001b[0mbatch\u001b[0m\u001b[1;33m)\u001b[0m\u001b[1;33m\u001b[0m\u001b[1;33m\u001b[0m\u001b[0m\n\u001b[1;32m---> 79\u001b[1;33m         \u001b[1;32mreturn\u001b[0m \u001b[1;33m[\u001b[0m\u001b[0mdefault_collate\u001b[0m\u001b[1;33m(\u001b[0m\u001b[0msamples\u001b[0m\u001b[1;33m)\u001b[0m \u001b[1;32mfor\u001b[0m \u001b[0msamples\u001b[0m \u001b[1;32min\u001b[0m \u001b[0mtransposed\u001b[0m\u001b[1;33m]\u001b[0m\u001b[1;33m\u001b[0m\u001b[1;33m\u001b[0m\u001b[0m\n\u001b[0m\u001b[0;32m     80\u001b[0m \u001b[1;33m\u001b[0m\u001b[0m\n\u001b[0;32m     81\u001b[0m     \u001b[1;32mraise\u001b[0m \u001b[0mTypeError\u001b[0m\u001b[1;33m(\u001b[0m\u001b[0mdefault_collate_err_msg_format\u001b[0m\u001b[1;33m.\u001b[0m\u001b[0mformat\u001b[0m\u001b[1;33m(\u001b[0m\u001b[0melem_type\u001b[0m\u001b[1;33m)\u001b[0m\u001b[1;33m)\u001b[0m\u001b[1;33m\u001b[0m\u001b[1;33m\u001b[0m\u001b[0m\n",
      "\u001b[1;32mC:\\Users\\tsuchiya\\miniconda3\\envs\\env_pytorch\\lib\\site-packages\\torch\\utils\\data\\_utils\\collate.py\u001b[0m in \u001b[0;36m<listcomp>\u001b[1;34m(.0)\u001b[0m\n\u001b[0;32m     77\u001b[0m     \u001b[1;32melif\u001b[0m \u001b[0misinstance\u001b[0m\u001b[1;33m(\u001b[0m\u001b[0melem\u001b[0m\u001b[1;33m,\u001b[0m \u001b[0mcontainer_abcs\u001b[0m\u001b[1;33m.\u001b[0m\u001b[0mSequence\u001b[0m\u001b[1;33m)\u001b[0m\u001b[1;33m:\u001b[0m\u001b[1;33m\u001b[0m\u001b[1;33m\u001b[0m\u001b[0m\n\u001b[0;32m     78\u001b[0m         \u001b[0mtransposed\u001b[0m \u001b[1;33m=\u001b[0m \u001b[0mzip\u001b[0m\u001b[1;33m(\u001b[0m\u001b[1;33m*\u001b[0m\u001b[0mbatch\u001b[0m\u001b[1;33m)\u001b[0m\u001b[1;33m\u001b[0m\u001b[1;33m\u001b[0m\u001b[0m\n\u001b[1;32m---> 79\u001b[1;33m         \u001b[1;32mreturn\u001b[0m \u001b[1;33m[\u001b[0m\u001b[0mdefault_collate\u001b[0m\u001b[1;33m(\u001b[0m\u001b[0msamples\u001b[0m\u001b[1;33m)\u001b[0m \u001b[1;32mfor\u001b[0m \u001b[0msamples\u001b[0m \u001b[1;32min\u001b[0m \u001b[0mtransposed\u001b[0m\u001b[1;33m]\u001b[0m\u001b[1;33m\u001b[0m\u001b[1;33m\u001b[0m\u001b[0m\n\u001b[0m\u001b[0;32m     80\u001b[0m \u001b[1;33m\u001b[0m\u001b[0m\n\u001b[0;32m     81\u001b[0m     \u001b[1;32mraise\u001b[0m \u001b[0mTypeError\u001b[0m\u001b[1;33m(\u001b[0m\u001b[0mdefault_collate_err_msg_format\u001b[0m\u001b[1;33m.\u001b[0m\u001b[0mformat\u001b[0m\u001b[1;33m(\u001b[0m\u001b[0melem_type\u001b[0m\u001b[1;33m)\u001b[0m\u001b[1;33m)\u001b[0m\u001b[1;33m\u001b[0m\u001b[1;33m\u001b[0m\u001b[0m\n",
      "\u001b[1;32mC:\\Users\\tsuchiya\\miniconda3\\envs\\env_pytorch\\lib\\site-packages\\torch\\utils\\data\\_utils\\collate.py\u001b[0m in \u001b[0;36mdefault_collate\u001b[1;34m(batch)\u001b[0m\n\u001b[0;32m     53\u001b[0m             \u001b[0mstorage\u001b[0m \u001b[1;33m=\u001b[0m \u001b[0melem\u001b[0m\u001b[1;33m.\u001b[0m\u001b[0mstorage\u001b[0m\u001b[1;33m(\u001b[0m\u001b[1;33m)\u001b[0m\u001b[1;33m.\u001b[0m\u001b[0m_new_shared\u001b[0m\u001b[1;33m(\u001b[0m\u001b[0mnumel\u001b[0m\u001b[1;33m)\u001b[0m\u001b[1;33m\u001b[0m\u001b[1;33m\u001b[0m\u001b[0m\n\u001b[0;32m     54\u001b[0m             \u001b[0mout\u001b[0m \u001b[1;33m=\u001b[0m \u001b[0melem\u001b[0m\u001b[1;33m.\u001b[0m\u001b[0mnew\u001b[0m\u001b[1;33m(\u001b[0m\u001b[0mstorage\u001b[0m\u001b[1;33m)\u001b[0m\u001b[1;33m\u001b[0m\u001b[1;33m\u001b[0m\u001b[0m\n\u001b[1;32m---> 55\u001b[1;33m         \u001b[1;32mreturn\u001b[0m \u001b[0mtorch\u001b[0m\u001b[1;33m.\u001b[0m\u001b[0mstack\u001b[0m\u001b[1;33m(\u001b[0m\u001b[0mbatch\u001b[0m\u001b[1;33m,\u001b[0m \u001b[1;36m0\u001b[0m\u001b[1;33m,\u001b[0m \u001b[0mout\u001b[0m\u001b[1;33m=\u001b[0m\u001b[0mout\u001b[0m\u001b[1;33m)\u001b[0m\u001b[1;33m\u001b[0m\u001b[1;33m\u001b[0m\u001b[0m\n\u001b[0m\u001b[0;32m     56\u001b[0m     \u001b[1;32melif\u001b[0m \u001b[0melem_type\u001b[0m\u001b[1;33m.\u001b[0m\u001b[0m__module__\u001b[0m \u001b[1;33m==\u001b[0m \u001b[1;34m'numpy'\u001b[0m \u001b[1;32mand\u001b[0m \u001b[0melem_type\u001b[0m\u001b[1;33m.\u001b[0m\u001b[0m__name__\u001b[0m \u001b[1;33m!=\u001b[0m \u001b[1;34m'str_'\u001b[0m\u001b[0;31m \u001b[0m\u001b[0;31m\\\u001b[0m\u001b[1;33m\u001b[0m\u001b[1;33m\u001b[0m\u001b[0m\n\u001b[0;32m     57\u001b[0m             \u001b[1;32mand\u001b[0m \u001b[0melem_type\u001b[0m\u001b[1;33m.\u001b[0m\u001b[0m__name__\u001b[0m \u001b[1;33m!=\u001b[0m \u001b[1;34m'string_'\u001b[0m\u001b[1;33m:\u001b[0m\u001b[1;33m\u001b[0m\u001b[1;33m\u001b[0m\u001b[0m\n",
      "\u001b[1;31mKeyboardInterrupt\u001b[0m: "
     ]
    }
   ],
   "source": [
    "# n_splitsでKの数を指定\n",
    "folds = StratifiedKFold(n_splits=CFG.n_split).split(np.arange(df_train.shape[0]), df_train[\"label\"].values)\n",
    "Save_histroy(init=True)\n",
    "for fold_index, (train_index,val_index) in enumerate(folds):\n",
    "    model = EfficientNet.from_pretrained(CFG.model_name)\n",
    "    num_ftrs = model._fc.in_features\n",
    "    model._fc = nn.Linear(num_ftrs, CFG.target_size)\n",
    "    model = model.to(device)\n",
    "    optimizer = optim.Adam(model.parameters(), lr=CFG.learning_rate)\n",
    "    \n",
    "    train = df_train.iloc[train_index].reset_index(drop=True)\n",
    "    train_data = ImageData(df = train, data_dir = train_dir, transform = data_transforms)\n",
    "    train_loader = DataLoader(dataset = train_data, batch_size = CFG.batch_size, num_workers=CFG.num_workers, pin_memory=True,shuffle=True)\n",
    "    train_criterion = nn.CrossEntropyLoss(weight=CFG.weights).to(device)\n",
    "    \n",
    "    val = df_train.iloc[val_index,:].reset_index(drop=True)\n",
    "    val_data = ImageData(df = val, data_dir = train_dir, transform = data_transforms)\n",
    "    val_loader = DataLoader(dataset = val_data, batch_size = CFG.batch_size, num_workers=CFG.num_workers, pin_memory=True,shuffle=True)\n",
    "    val_criterion = nn.CrossEntropyLoss(weight=CFG.weights).to(device)\n",
    "    train_epoch_log = []\n",
    "    train_acc_log = []\n",
    "    val_epoch_log = []\n",
    "    val_acc_log = []\n",
    "    \n",
    "    for epoch in range(CFG.num_epochs):\n",
    "        train_total = 0\n",
    "        train_correct = 0\n",
    "        train_loss_sum = 0\n",
    "        val_total = 0\n",
    "        val_correct = 0\n",
    "        val_loss_sum = 0\n",
    "        \n",
    "        # train\n",
    "        model.train()\n",
    "        for idx, (data, target) in enumerate(train_loader):\n",
    "            data, target = data.to(device), target.to(device)\n",
    "            optimizer.zero_grad()\n",
    "            output = model(data)\n",
    "            loss = train_criterion(output, target)\n",
    "            loss.backward()\n",
    "            optimizer.step()  \n",
    "            \n",
    "            train_loss_sum += loss.item()\n",
    "            train_total += target.size(0)\n",
    "            _,predicted = output.max(1)\n",
    "            train_correct += predicted.eq(target).sum().item()\n",
    "\n",
    "            \n",
    "        train_loss = train_loss_sum / len(train_loader)\n",
    "        train_epoch_log.append(train_loss)\n",
    "        train_acc = 100.0 * train_correct/train_total\n",
    "        train_acc_log.append(train_acc)\n",
    "        \n",
    "        # val\n",
    "        model.eval()\n",
    "        with torch.no_grad():\n",
    "            for idx, (data, target) in enumerate(val_loader):\n",
    "                data, target = data.to(device), target.to(device)\n",
    "                output = model(data)\n",
    "                loss = val_criterion(output, target)\n",
    "                val_loss_sum += loss.item()\n",
    "                val_total += target.size(0)\n",
    "                _,predicted = output.max(1)\n",
    "                val_correct += (predicted == target).sum().item()\n",
    "                    \n",
    "            val_loss = val_loss_sum / len(val_loader)\n",
    "            val_epoch_log.append(val_loss)\n",
    "            val_acc = 100.0 * val_correct/val_total\n",
    "            val_acc_log.append(val_acc)\n",
    "                \n",
    "        print('Kfold: {} - Epoch: {} - Train_Loss: {:.6f} - Train_Acc: {:.4f} - Val_Loss: {:.6f} - Val_Acc: {:4f}'.format(fold_index+1, epoch + 1, train_loss, train_acc, val_loss, val_acc))\n",
    "        Save_histroy(init=False)\n",
    "        if (val_loss < CFG.checkpoint_thres_loss) & (val_acc > CFG.checkpoint_thres_acc):\n",
    "            CFG.checkpoint_thres_loss = val_loss\n",
    "            CFG.checkpoint_thres_acc = val_acc\n",
    "            path = create_directory + \"./efficientb1_epoch\"+str(epoch)+ \"_Acc_\" + str(val_acc) + '.pth'\n",
    "            torch.save(model.state_dict(), path) \n",
    "        \n",
    "    Plot_Model_History(train_epoch_log,train_acc_log,val_epoch_log,val_acc_log)"
   ]
  },
  {
   "cell_type": "code",
   "execution_count": null,
   "metadata": {},
   "outputs": [],
   "source": []
  },
  {
   "cell_type": "code",
   "execution_count": null,
   "metadata": {},
   "outputs": [],
   "source": []
  },
  {
   "cell_type": "code",
   "execution_count": null,
   "metadata": {},
   "outputs": [],
   "source": []
  },
  {
   "cell_type": "code",
   "execution_count": null,
   "metadata": {},
   "outputs": [],
   "source": []
  },
  {
   "cell_type": "code",
   "execution_count": null,
   "metadata": {},
   "outputs": [],
   "source": []
  },
  {
   "cell_type": "code",
   "execution_count": null,
   "metadata": {},
   "outputs": [],
   "source": []
  },
  {
   "cell_type": "code",
   "execution_count": null,
   "metadata": {},
   "outputs": [],
   "source": []
  }
 ],
 "metadata": {
  "kernelspec": {
   "display_name": "Python 3",
   "language": "python",
   "name": "python3"
  },
  "language_info": {
   "codemirror_mode": {
    "name": "ipython",
    "version": 3
   },
   "file_extension": ".py",
   "mimetype": "text/x-python",
   "name": "python",
   "nbconvert_exporter": "python",
   "pygments_lexer": "ipython3",
   "version": "3.6.12"
  }
 },
 "nbformat": 4,
 "nbformat_minor": 4
}
