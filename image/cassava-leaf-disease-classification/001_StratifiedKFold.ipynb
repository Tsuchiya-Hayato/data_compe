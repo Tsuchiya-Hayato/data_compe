{
 "cells": [
  {
   "cell_type": "code",
   "execution_count": 1,
   "metadata": {},
   "outputs": [],
   "source": [
    "import numpy as np # linear algebra\n",
    "import pandas as pd # data processing, CSV file I/O (e.g. pd.read_csv)\n",
    "\n",
    "import os\n",
    "import sys\n",
    "\n",
    "from efficientnet_pytorch import EfficientNet\n",
    "import torch\n",
    "import torch.nn as nn\n",
    "import torch.optim as optim \n",
    "from torch.utils.data import DataLoader, Dataset\n",
    "import torch.utils.data as utils\n",
    "import torchvision\n",
    "from torchvision import datasets, models, transforms\n",
    "\n",
    "\n",
    "from sklearn.model_selection import GroupKFold, StratifiedKFold\n",
    "from tqdm import tqdm\n",
    "import shutil\n",
    "import matplotlib.pyplot as plt\n",
    "%matplotlib inline\n",
    "import random\n",
    "import warnings\n",
    "warnings.filterwarnings(\"ignore\")"
   ]
  },
  {
   "cell_type": "code",
   "execution_count": 2,
   "metadata": {},
   "outputs": [
    {
     "name": "stdout",
     "output_type": "stream",
     "text": [
      "../../../data/cassava-leaf-disease-classification\\train_images/\n"
     ]
    }
   ],
   "source": [
    "BASE_DIR = \"../../../data/cassava-leaf-disease-classification\"\n",
    "train_dir = os.path.join(BASE_DIR, 'train_images/')\n",
    "test_dir = os.path.join(BASE_DIR, \"test_images/\")\n",
    "print(train_dir)"
   ]
  },
  {
   "cell_type": "code",
   "execution_count": 3,
   "metadata": {},
   "outputs": [],
   "source": [
    "#日付を取得\n",
    "import datetime as dt\n",
    "\n",
    "dt_now = dt.datetime.now()\n",
    "directory_name = dt_now.strftime('%Y%m%d%H')\n",
    "create_directory = BASE_DIR + '/models/' + directory_name\n",
    "if(not (os.path.exists(create_directory))):\n",
    "    os.mkdir(create_directory)"
   ]
  },
  {
   "cell_type": "code",
   "execution_count": 4,
   "metadata": {},
   "outputs": [],
   "source": [
    "## config\n",
    "class CFG:\n",
    "    num_workers=0\n",
    "    model_name='efficientnet-b1'\n",
    "    size=300\n",
    "    batch_size=8\n",
    "    target_size=5\n",
    "    target_col='label'\n",
    "    n_fold=3\n",
    "    seed = 2021\n",
    "    learning_rate = 1e-5\n",
    "    num_epochs = 30\n",
    "    n_split = 3\n",
    "    checkpoint_thres_loss = 0.1\n",
    "    checkpoint_thres_acc = 80\n",
    "    weights=torch.tensor([0.50, 1.0, 1.1, 6.1, 1.2]) #see 000_EDA.ipynb"
   ]
  },
  {
   "cell_type": "code",
   "execution_count": 5,
   "metadata": {},
   "outputs": [],
   "source": [
    "np.random.seed(CFG.seed)\n",
    "random.seed(CFG.seed)\n",
    "torch.manual_seed(CFG.seed)\n",
    "torch.cuda.manual_seed(CFG.seed)"
   ]
  },
  {
   "cell_type": "code",
   "execution_count": 6,
   "metadata": {},
   "outputs": [
    {
     "data": {
      "text/html": [
       "<div>\n",
       "<style scoped>\n",
       "    .dataframe tbody tr th:only-of-type {\n",
       "        vertical-align: middle;\n",
       "    }\n",
       "\n",
       "    .dataframe tbody tr th {\n",
       "        vertical-align: top;\n",
       "    }\n",
       "\n",
       "    .dataframe thead th {\n",
       "        text-align: right;\n",
       "    }\n",
       "</style>\n",
       "<table border=\"1\" class=\"dataframe\">\n",
       "  <thead>\n",
       "    <tr style=\"text-align: right;\">\n",
       "      <th></th>\n",
       "      <th>image_id</th>\n",
       "      <th>label</th>\n",
       "    </tr>\n",
       "  </thead>\n",
       "  <tbody>\n",
       "    <tr>\n",
       "      <th>0</th>\n",
       "      <td>1000015157.jpg</td>\n",
       "      <td>0</td>\n",
       "    </tr>\n",
       "    <tr>\n",
       "      <th>1</th>\n",
       "      <td>1000201771.jpg</td>\n",
       "      <td>3</td>\n",
       "    </tr>\n",
       "    <tr>\n",
       "      <th>2</th>\n",
       "      <td>100042118.jpg</td>\n",
       "      <td>1</td>\n",
       "    </tr>\n",
       "    <tr>\n",
       "      <th>3</th>\n",
       "      <td>1000723321.jpg</td>\n",
       "      <td>1</td>\n",
       "    </tr>\n",
       "    <tr>\n",
       "      <th>4</th>\n",
       "      <td>1000812911.jpg</td>\n",
       "      <td>3</td>\n",
       "    </tr>\n",
       "  </tbody>\n",
       "</table>\n",
       "</div>"
      ],
      "text/plain": [
       "         image_id  label\n",
       "0  1000015157.jpg      0\n",
       "1  1000201771.jpg      3\n",
       "2   100042118.jpg      1\n",
       "3  1000723321.jpg      1\n",
       "4  1000812911.jpg      3"
      ]
     },
     "execution_count": 6,
     "metadata": {},
     "output_type": "execute_result"
    }
   ],
   "source": [
    "df_train = pd.read_csv(BASE_DIR + \"/train.csv\")\n",
    "df_train.head()\n"
   ]
  },
  {
   "cell_type": "code",
   "execution_count": 7,
   "metadata": {},
   "outputs": [
    {
     "name": "stdout",
     "output_type": "stream",
     "text": [
      "Loaded pretrained weights for efficientnet-b3\n"
     ]
    }
   ],
   "source": [
    "\n",
    "model = EfficientNet.from_pretrained(CFG.model_name)\n",
    "num_ftrs = model._fc.in_features\n",
    "model._fc = nn.Linear(num_ftrs, CFG.target_size)"
   ]
  },
  {
   "cell_type": "code",
   "execution_count": 8,
   "metadata": {},
   "outputs": [
    {
     "name": "stdout",
     "output_type": "stream",
     "text": [
      "cuda:0\n",
      "GeForce RTX 2060\n",
      "Memory Usage:\n",
      "Allocated: 0.0 GB\n",
      "Cached:    0.0 GB\n"
     ]
    }
   ],
   "source": [
    "device = torch.device(\"cuda:0\" if torch.cuda.is_available() else \"cpu\")\n",
    "print(device)\n",
    "if device.type == 'cuda':\n",
    "    print(torch.cuda.get_device_name(0))\n",
    "    print('Memory Usage:')\n",
    "    print('Allocated:', round(torch.cuda.memory_allocated(0)/1024**3,1), 'GB')\n",
    "    print('Cached:   ', round(torch.cuda.memory_cached(0)/1024**3,1), 'GB')"
   ]
  },
  {
   "cell_type": "code",
   "execution_count": 9,
   "metadata": {},
   "outputs": [],
   "source": [
    "data_transforms = transforms.Compose([\n",
    "        transforms.ToPILImage(),\n",
    "        transforms.Resize(240),\n",
    "#         transforms.RandomResizedCrop(224),\n",
    "#         transforms.RandomHorizontalFlip(),\n",
    "        transforms.ToTensor(),\n",
    "        transforms.Normalize([0.485, 0.456, 0.406], [0.229, 0.224, 0.225])\n",
    "        ])"
   ]
  },
  {
   "cell_type": "code",
   "execution_count": 10,
   "metadata": {},
   "outputs": [],
   "source": [
    "class ImageData(Dataset):\n",
    "    def __init__(self, df, data_dir, transform, output_label=True):\n",
    "        super().__init__()\n",
    "        self.df = df\n",
    "        self.data_dir = data_dir\n",
    "        self.transform = transform\n",
    "        self.output_label = output_label\n",
    "\n",
    "    def __len__(self):\n",
    "        return len(self.df)\n",
    "    \n",
    "    def __getitem__(self, index):       \n",
    "        img_name = self.df.iloc[index,0]\n",
    "        if self.output_label:\n",
    "            label = self.df.iloc[index,1]\n",
    "        \n",
    "        img_path = os.path.join(self.data_dir, img_name)\n",
    "        image = plt.imread(img_path)\n",
    "        image = self.transform(image)\n",
    "\n",
    "        # do label smoothing\n",
    "        if self.output_label == True:\n",
    "            return image, label\n",
    "        else:\n",
    "            return image"
   ]
  },
  {
   "cell_type": "code",
   "execution_count": 11,
   "metadata": {},
   "outputs": [],
   "source": [
    "def Plot_Model_History(loss_tra_li,acc_tra_li,loss_val_li,acc_val_li):\n",
    "    plt.figure(figsize=(12, 5))\n",
    "    plt.subplot(2, 2, 1)\n",
    "    plt.plot(loss_tra_li, label=\"train_loss\")\n",
    "    plt.plot(loss_val_li, label=\"val_loss\")\n",
    "    plt.legend()\n",
    "    plt.subplot(2, 2, 2)\n",
    "    plt.plot(acc_tra_li, label=\"train_acc\")\n",
    "    plt.plot(acc_val_li, label=\"val_acc\")\n",
    "    plt.legend()\n",
    "    plt.show()\n",
    "    \n",
    "def Save_histroy(init=False):\n",
    "    filename = \"./log/\" + directory_name\n",
    "    if init:\n",
    "        with open(filename+'.txt','w') as f:\n",
    "            f.write(\"model: {}, lr: {}, weights: {}. batchsize: {}, kfold: {}, epoch: {}\\n\" .format(CFG.model_name,CFG.learning_rate,CFG.weights, CFG.batch_size,CFG.n_split,CFG.num_epochs))\n",
    "    else:\n",
    "        with open(filename+'.txt',mode='a') as f:\n",
    "            f.write('\\nkfold: {}, epoch: {}. train_loss: {}, train_acc: {}. val_loss: {}, val_acc: {}' .format(fold_index+1, epoch + 1, train_loss, train_acc, val_loss, val_acc))"
   ]
  },
  {
   "cell_type": "code",
   "execution_count": 12,
   "metadata": {},
   "outputs": [
    {
     "name": "stdout",
     "output_type": "stream",
     "text": [
      "Loaded pretrained weights for efficientnet-b3\n",
      "Kfold: 1 - Epoch: 1 - Train_Loss: 0.554458 - Train_Acc: 62.5351 - Val_Loss: 0.352404 - Val_Acc: 68.007851\n",
      "Kfold: 1 - Epoch: 2 - Train_Loss: 0.316859 - Train_Acc: 67.2672 - Val_Loss: 0.301162 - Val_Acc: 73.040796\n",
      "Kfold: 1 - Epoch: 3 - Train_Loss: 0.263367 - Train_Acc: 72.4832 - Val_Loss: 0.270554 - Val_Acc: 77.779335\n",
      "Kfold: 1 - Epoch: 4 - Train_Loss: 0.227084 - Train_Acc: 76.5984 - Val_Loss: 0.244937 - Val_Acc: 79.461657\n",
      "Kfold: 1 - Epoch: 5 - Train_Loss: 0.200552 - Train_Acc: 78.8839 - Val_Loss: 0.241649 - Val_Acc: 80.386934\n",
      "Kfold: 1 - Epoch: 6 - Train_Loss: 0.180489 - Train_Acc: 80.7207 - Val_Loss: 0.250331 - Val_Acc: 80.961727\n",
      "Kfold: 1 - Epoch: 7 - Train_Loss: 0.164069 - Train_Acc: 82.9431 - Val_Loss: 0.251831 - Val_Acc: 81.396327\n",
      "Kfold: 1 - Epoch: 8 - Train_Loss: 0.150481 - Train_Acc: 83.8755 - Val_Loss: 0.258755 - Val_Acc: 81.564559\n",
      "Kfold: 1 - Epoch: 9 - Train_Loss: 0.140251 - Train_Acc: 85.3057 - Val_Loss: 0.281684 - Val_Acc: 81.606617\n",
      "Kfold: 1 - Epoch: 10 - Train_Loss: 0.129941 - Train_Acc: 86.2030 - Val_Loss: 0.294090 - Val_Acc: 81.648675\n",
      "Kfold: 1 - Epoch: 11 - Train_Loss: 0.117786 - Train_Acc: 87.2616 - Val_Loss: 0.299654 - Val_Acc: 82.027198\n",
      "Kfold: 1 - Epoch: 12 - Train_Loss: 0.108918 - Train_Acc: 87.8646 - Val_Loss: 0.278533 - Val_Acc: 82.265526\n",
      "Kfold: 1 - Epoch: 13 - Train_Loss: 0.099775 - Train_Acc: 88.9442 - Val_Loss: 0.313343 - Val_Acc: 82.013178\n",
      "Kfold: 1 - Epoch: 14 - Train_Loss: 0.085956 - Train_Acc: 89.8696 - Val_Loss: 0.318402 - Val_Acc: 82.251507\n",
      "Kfold: 1 - Epoch: 15 - Train_Loss: 0.089053 - Train_Acc: 90.2412 - Val_Loss: 0.340550 - Val_Acc: 82.013178\n",
      "Kfold: 1 - Epoch: 16 - Train_Loss: 0.076566 - Train_Acc: 91.3559 - Val_Loss: 0.349190 - Val_Acc: 81.522501\n",
      "Kfold: 1 - Epoch: 17 - Train_Loss: 0.071347 - Train_Acc: 91.4190 - Val_Loss: 0.355516 - Val_Acc: 81.971120\n",
      "Kfold: 1 - Epoch: 18 - Train_Loss: 0.067948 - Train_Acc: 92.3794 - Val_Loss: 0.351892 - Val_Acc: 81.676714\n",
      "Kfold: 1 - Epoch: 19 - Train_Loss: 0.062999 - Train_Acc: 93.0665 - Val_Loss: 0.368206 - Val_Acc: 81.746811\n",
      "Kfold: 1 - Epoch: 20 - Train_Loss: 0.058160 - Train_Acc: 92.9543 - Val_Loss: 0.361173 - Val_Acc: 81.915043\n",
      "Kfold: 1 - Epoch: 21 - Train_Loss: 0.049940 - Train_Acc: 93.9428 - Val_Loss: 0.370611 - Val_Acc: 81.648675\n",
      "Kfold: 1 - Epoch: 22 - Train_Loss: 0.054790 - Train_Acc: 94.1601 - Val_Loss: 0.381671 - Val_Acc: 81.929062\n",
      "Kfold: 1 - Epoch: 23 - Train_Loss: 0.047285 - Train_Acc: 94.4546 - Val_Loss: 0.380527 - Val_Acc: 81.550540\n",
      "Kfold: 1 - Epoch: 24 - Train_Loss: 0.044744 - Train_Acc: 95.1767 - Val_Loss: 0.391819 - Val_Acc: 81.382308\n",
      "Kfold: 1 - Epoch: 25 - Train_Loss: 0.041432 - Train_Acc: 95.4291 - Val_Loss: 0.436720 - Val_Acc: 80.611244\n",
      "Kfold: 1 - Epoch: 26 - Train_Loss: 0.035681 - Train_Acc: 95.7796 - Val_Loss: 0.424080 - Val_Acc: 81.157998\n",
      "Kfold: 1 - Epoch: 27 - Train_Loss: 0.039448 - Train_Acc: 96.0881 - Val_Loss: 0.410577 - Val_Acc: 81.270153\n",
      "Kfold: 1 - Epoch: 28 - Train_Loss: 0.032465 - Train_Acc: 96.3404 - Val_Loss: 0.447542 - Val_Acc: 81.073882\n",
      "Kfold: 1 - Epoch: 29 - Train_Loss: 0.033711 - Train_Acc: 96.8102 - Val_Loss: 0.430357 - Val_Acc: 80.877611\n",
      "Kfold: 1 - Epoch: 30 - Train_Loss: 0.033973 - Train_Acc: 96.9504 - Val_Loss: 0.404119 - Val_Acc: 81.887004\n",
      "Kfold: 1 - Epoch: 31 - Train_Loss: 0.024046 - Train_Acc: 97.3710 - Val_Loss: 0.422132 - Val_Acc: 81.676714\n",
      "Kfold: 1 - Epoch: 32 - Train_Loss: 0.023400 - Train_Acc: 97.3990 - Val_Loss: 0.428146 - Val_Acc: 81.676714\n",
      "Kfold: 1 - Epoch: 33 - Train_Loss: 0.021648 - Train_Acc: 97.5953 - Val_Loss: 0.468482 - Val_Acc: 80.779476\n",
      "Kfold: 1 - Epoch: 34 - Train_Loss: 0.027114 - Train_Acc: 97.7215 - Val_Loss: 0.517683 - Val_Acc: 80.681340\n",
      "Kfold: 1 - Epoch: 35 - Train_Loss: 0.019075 - Train_Acc: 97.9389 - Val_Loss: 0.439633 - Val_Acc: 81.929062\n",
      "Kfold: 1 - Epoch: 36 - Train_Loss: 0.019323 - Train_Acc: 98.2193 - Val_Loss: 0.440489 - Val_Acc: 81.788869\n",
      "Kfold: 1 - Epoch: 37 - Train_Loss: 0.017657 - Train_Acc: 98.1772 - Val_Loss: 0.470357 - Val_Acc: 81.214075\n",
      "Kfold: 1 - Epoch: 38 - Train_Loss: 0.021589 - Train_Acc: 98.2894 - Val_Loss: 0.473709 - Val_Acc: 81.578578\n",
      "Kfold: 1 - Epoch: 39 - Train_Loss: 0.017070 - Train_Acc: 98.4927 - Val_Loss: 0.448823 - Val_Acc: 81.466424\n",
      "Kfold: 1 - Epoch: 40 - Train_Loss: 0.016039 - Train_Acc: 98.6329 - Val_Loss: 0.468873 - Val_Acc: 81.256133\n",
      "Kfold: 1 - Epoch: 41 - Train_Loss: 0.016489 - Train_Acc: 98.5838 - Val_Loss: 0.518822 - Val_Acc: 80.765456\n",
      "Kfold: 1 - Epoch: 42 - Train_Loss: 0.014941 - Train_Acc: 98.5488 - Val_Loss: 0.480485 - Val_Acc: 81.522501\n",
      "Kfold: 1 - Epoch: 43 - Train_Loss: 0.016167 - Train_Acc: 98.8012 - Val_Loss: 0.474803 - Val_Acc: 81.368288\n",
      "Kfold: 1 - Epoch: 44 - Train_Loss: 0.012140 - Train_Acc: 98.7731 - Val_Loss: 0.493375 - Val_Acc: 81.382308\n",
      "Kfold: 1 - Epoch: 45 - Train_Loss: 0.016466 - Train_Acc: 98.7591 - Val_Loss: 0.483139 - Val_Acc: 81.592598\n",
      "Kfold: 1 - Epoch: 46 - Train_Loss: 0.015527 - Train_Acc: 98.7591 - Val_Loss: 0.474355 - Val_Acc: 82.069256\n",
      "Kfold: 1 - Epoch: 47 - Train_Loss: 0.010669 - Train_Acc: 99.1377 - Val_Loss: 0.486687 - Val_Acc: 81.915043\n",
      "Kfold: 1 - Epoch: 48 - Train_Loss: 0.010423 - Train_Acc: 99.0325 - Val_Loss: 0.497897 - Val_Acc: 81.676714\n",
      "Kfold: 1 - Epoch: 49 - Train_Loss: 0.008398 - Train_Acc: 99.1517 - Val_Loss: 0.476852 - Val_Acc: 81.746811\n",
      "Kfold: 1 - Epoch: 50 - Train_Loss: 0.008496 - Train_Acc: 99.1657 - Val_Loss: 0.485802 - Val_Acc: 81.634656\n"
     ]
    },
    {
     "data": {
      "image/png": "[encoded data removed]",
      "text/plain": [
       "<Figure size 864x360 with 2 Axes>"
      ]
     },
     "metadata": {
      "needs_background": "light"
     },
     "output_type": "display_data"
    },
    {
     "name": "stdout",
     "output_type": "stream",
     "text": [
      "Loaded pretrained weights for efficientnet-b3\n",
      "Kfold: 2 - Epoch: 1 - Train_Loss: 0.557573 - Train_Acc: 61.4581 - Val_Loss: 0.342730 - Val_Acc: 67.274257\n",
      "Kfold: 2 - Epoch: 2 - Train_Loss: 0.310692 - Train_Acc: 67.2275 - Val_Loss: 0.288371 - Val_Acc: 73.008974\n",
      "Kfold: 2 - Epoch: 3 - Train_Loss: 0.266801 - Train_Acc: 72.1276 - Val_Loss: 0.258742 - Val_Acc: 78.463264\n",
      "Kfold: 2 - Epoch: 4 - Train_Loss: 0.237828 - Train_Acc: 75.9411 - Val_Loss: 0.229085 - Val_Acc: 80.173864\n",
      "Kfold: 2 - Epoch: 5 - Train_Loss: 0.215574 - Train_Acc: 78.1703 - Val_Loss: 0.236455 - Val_Acc: 81.253505\n",
      "Kfold: 2 - Epoch: 6 - Train_Loss: 0.193066 - Train_Acc: 80.0841 - Val_Loss: 0.219046 - Val_Acc: 81.575996\n"
     ]
    },
    {
     "ename": "KeyboardInterrupt",
     "evalue": "",
     "output_type": "error",
     "traceback": [
      "\u001b[1;31m---------------------------------------------------------------------------\u001b[0m",
      "\u001b[1;31mKeyboardInterrupt\u001b[0m                         Traceback (most recent call last)",
      "\u001b[1;32m<ipython-input-12-a20685159ce2>\u001b[0m in \u001b[0;36m<module>\u001b[1;34m()\u001b[0m\n\u001b[0;32m     39\u001b[0m             \u001b[0mloss\u001b[0m \u001b[1;33m=\u001b[0m \u001b[0mtrain_criterion\u001b[0m\u001b[1;33m(\u001b[0m\u001b[0moutput\u001b[0m\u001b[1;33m,\u001b[0m \u001b[0mtarget\u001b[0m\u001b[1;33m)\u001b[0m\u001b[1;33m\u001b[0m\u001b[1;33m\u001b[0m\u001b[0m\n\u001b[0;32m     40\u001b[0m             \u001b[0mloss\u001b[0m\u001b[1;33m.\u001b[0m\u001b[0mbackward\u001b[0m\u001b[1;33m(\u001b[0m\u001b[1;33m)\u001b[0m\u001b[1;33m\u001b[0m\u001b[1;33m\u001b[0m\u001b[0m\n\u001b[1;32m---> 41\u001b[1;33m             \u001b[0moptimizer\u001b[0m\u001b[1;33m.\u001b[0m\u001b[0mstep\u001b[0m\u001b[1;33m(\u001b[0m\u001b[1;33m)\u001b[0m\u001b[1;33m\u001b[0m\u001b[1;33m\u001b[0m\u001b[0m\n\u001b[0m\u001b[0;32m     42\u001b[0m \u001b[1;33m\u001b[0m\u001b[0m\n\u001b[0;32m     43\u001b[0m             \u001b[0mtrain_loss_sum\u001b[0m \u001b[1;33m+=\u001b[0m \u001b[0mloss\u001b[0m\u001b[1;33m.\u001b[0m\u001b[0mitem\u001b[0m\u001b[1;33m(\u001b[0m\u001b[1;33m)\u001b[0m\u001b[1;33m\u001b[0m\u001b[1;33m\u001b[0m\u001b[0m\n",
      "\u001b[1;32mC:\\Users\\tsuchiya\\miniconda3\\envs\\env_pytorch\\lib\\site-packages\\torch\\optim\\adam.py\u001b[0m in \u001b[0;36mstep\u001b[1;34m(self, closure)\u001b[0m\n\u001b[0;32m     93\u001b[0m \u001b[1;33m\u001b[0m\u001b[0m\n\u001b[0;32m     94\u001b[0m                 \u001b[1;31m# Decay the first and second moment running average coefficient\u001b[0m\u001b[1;33m\u001b[0m\u001b[1;33m\u001b[0m\u001b[1;33m\u001b[0m\u001b[0m\n\u001b[1;32m---> 95\u001b[1;33m                 \u001b[0mexp_avg\u001b[0m\u001b[1;33m.\u001b[0m\u001b[0mmul_\u001b[0m\u001b[1;33m(\u001b[0m\u001b[0mbeta1\u001b[0m\u001b[1;33m)\u001b[0m\u001b[1;33m.\u001b[0m\u001b[0madd_\u001b[0m\u001b[1;33m(\u001b[0m\u001b[1;36m1\u001b[0m \u001b[1;33m-\u001b[0m \u001b[0mbeta1\u001b[0m\u001b[1;33m,\u001b[0m \u001b[0mgrad\u001b[0m\u001b[1;33m)\u001b[0m\u001b[1;33m\u001b[0m\u001b[1;33m\u001b[0m\u001b[0m\n\u001b[0m\u001b[0;32m     96\u001b[0m                 \u001b[0mexp_avg_sq\u001b[0m\u001b[1;33m.\u001b[0m\u001b[0mmul_\u001b[0m\u001b[1;33m(\u001b[0m\u001b[0mbeta2\u001b[0m\u001b[1;33m)\u001b[0m\u001b[1;33m.\u001b[0m\u001b[0maddcmul_\u001b[0m\u001b[1;33m(\u001b[0m\u001b[1;36m1\u001b[0m \u001b[1;33m-\u001b[0m \u001b[0mbeta2\u001b[0m\u001b[1;33m,\u001b[0m \u001b[0mgrad\u001b[0m\u001b[1;33m,\u001b[0m \u001b[0mgrad\u001b[0m\u001b[1;33m)\u001b[0m\u001b[1;33m\u001b[0m\u001b[1;33m\u001b[0m\u001b[0m\n\u001b[0;32m     97\u001b[0m                 \u001b[1;32mif\u001b[0m \u001b[0mamsgrad\u001b[0m\u001b[1;33m:\u001b[0m\u001b[1;33m\u001b[0m\u001b[1;33m\u001b[0m\u001b[0m\n",
      "\u001b[1;31mKeyboardInterrupt\u001b[0m: "
     ]
    }
   ],
   "source": [
    "# n_splitsでKの数を指定\n",
    "folds = StratifiedKFold(n_splits=CFG.n_split).split(np.arange(df_train.shape[0]), df_train[\"label\"].values)\n",
    "for fold_index, (train_index,val_index) in enumerate(folds):\n",
    "    Save_histroy(init=True)\n",
    "    model = EfficientNet.from_pretrained(CFG.model_name)\n",
    "    num_ftrs = model._fc.in_features\n",
    "    model._fc = nn.Linear(num_ftrs, CFG.target_size)\n",
    "    model = model.to(device)\n",
    "    optimizer = optim.Adam(model.parameters(), lr=CFG.learning_rate)\n",
    "    \n",
    "    train = df_train.iloc[train_index].reset_index(drop=True)\n",
    "    train_data = ImageData(df = train, data_dir = train_dir, transform = data_transforms)\n",
    "    train_loader = DataLoader(dataset = train_data, batch_size = CFG.batch_size, num_workers=CFG.num_workers, pin_memory=True,shuffle=True)\n",
    "    train_criterion = nn.CrossEntropyLoss(weight=CFG.weights).to(device)\n",
    "    \n",
    "    val = df_train.iloc[val_index,:].reset_index(drop=True)\n",
    "    val_data = ImageData(df = val, data_dir = train_dir, transform = data_transforms)\n",
    "    val_loader = DataLoader(dataset = val_data, batch_size = CFG.batch_size, num_workers=CFG.num_workers, pin_memory=True,shuffle=True)\n",
    "    val_criterion = nn.CrossEntropyLoss(weight=CFG.weights).to(device)\n",
    "    train_epoch_log = []\n",
    "    train_acc_log = []\n",
    "    val_epoch_log = []\n",
    "    val_acc_log = []\n",
    "    \n",
    "    for epoch in range(CFG.num_epochs):\n",
    "        train_total = 0\n",
    "        train_correct = 0\n",
    "        train_loss_sum = 0\n",
    "        val_total = 0\n",
    "        val_correct = 0\n",
    "        val_loss_sum = 0\n",
    "        \n",
    "        # train\n",
    "        model.train()\n",
    "        for idx, (data, target) in enumerate(train_loader):\n",
    "            data, target = data.to(device), target.to(device)\n",
    "            optimizer.zero_grad()\n",
    "            output = model(data)\n",
    "            loss = train_criterion(output, target)\n",
    "            loss.backward()\n",
    "            optimizer.step()  \n",
    "            \n",
    "            train_loss_sum += loss.item()\n",
    "            train_total += target.size(0)\n",
    "            _,predicted = output.max(1)\n",
    "            train_correct += predicted.eq(target).sum().item()\n",
    "\n",
    "            \n",
    "        train_loss = train_loss_sum / len(train_loader)\n",
    "        train_epoch_log.append(train_loss)\n",
    "        train_acc = 100.0 * train_correct/train_total\n",
    "        train_acc_log.append(train_acc)\n",
    "        \n",
    "        # val\n",
    "        model.eval()\n",
    "        with torch.no_grad():\n",
    "            for idx, (data, target) in enumerate(val_loader):\n",
    "                data, target = data.to(device), target.to(device)\n",
    "                output = model(data)\n",
    "                loss = val_criterion(output, target)\n",
    "                val_loss_sum += loss.item()\n",
    "                val_total += target.size(0)\n",
    "                _,predicted = output.max(1)\n",
    "                val_correct += (predicted == target).sum().item()\n",
    "                    \n",
    "            val_loss = val_loss_sum / len(val_loader)\n",
    "            val_epoch_log.append(val_loss)\n",
    "            val_acc = 100.0 * val_correct/val_total\n",
    "            val_acc_log.append(val_acc)\n",
    "                \n",
    "        print('Kfold: {} - Epoch: {} - Train_Loss: {:.6f} - Train_Acc: {:.4f} - Val_Loss: {:.6f} - Val_Acc: {:4f}'.format(fold_index+1, epoch + 1, train_loss, train_acc, val_loss, val_acc))\n",
    "        Save_histroy(init=False)\n",
    "        if (val_loss < CFG.checkpoint_thres_loss) & (val_acc > CFG.checkpoint_thres_acc):\n",
    "            CFG.checkpoint_thres_loss = val_loss\n",
    "            CFG.checkpoint_thres_acc = val_acc\n",
    "            path = create_directory + \"./efficientb1_epoch\"+str(epoch)+ \"_Acc_\" + str(val_acc) + '.pth'\n",
    "            torch.save(model.state_dict(), path) \n",
    "        \n",
    "    Plot_Model_History(train_epoch_log,train_acc_log,val_epoch_log,val_acc_log)"
   ]
  },
  {
   "cell_type": "code",
   "execution_count": null,
   "metadata": {},
   "outputs": [],
   "source": []
  },
  {
   "cell_type": "code",
   "execution_count": null,
   "metadata": {},
   "outputs": [],
   "source": []
  },
  {
   "cell_type": "code",
   "execution_count": null,
   "metadata": {},
   "outputs": [],
   "source": []
  },
  {
   "cell_type": "code",
   "execution_count": null,
   "metadata": {},
   "outputs": [],
   "source": []
  },
  {
   "cell_type": "code",
   "execution_count": null,
   "metadata": {},
   "outputs": [],
   "source": []
  },
  {
   "cell_type": "code",
   "execution_count": null,
   "metadata": {},
   "outputs": [],
   "source": []
  },
  {
   "cell_type": "code",
   "execution_count": null,
   "metadata": {},
   "outputs": [],
   "source": []
  }
 ],
 "metadata": {
  "kernelspec": {
   "display_name": "Python 3",
   "language": "python",
   "name": "python3"
  },
  "language_info": {
   "codemirror_mode": {
    "name": "ipython",
    "version": 3
   },
   "file_extension": ".py",
   "mimetype": "text/x-python",
   "name": "python",
   "nbconvert_exporter": "python",
   "pygments_lexer": "ipython3",
   "version": "3.6.12"
  }
 },
 "nbformat": 4,
 "nbformat_minor": 4
}
