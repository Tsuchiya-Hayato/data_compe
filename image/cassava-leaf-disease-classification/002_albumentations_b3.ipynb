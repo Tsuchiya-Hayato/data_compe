{
 "cells": [
  {
   "cell_type": "code",
   "execution_count": 10,
   "metadata": {},
   "outputs": [],
   "source": [
    "import numpy as np # linear algebra\n",
    "import pandas as pd # data processing, CSV file I/O (e.g. pd.read_csv)\n",
    "\n",
    "import os\n",
    "import sys\n",
    "\n",
    "\n",
    "import torch\n",
    "import torch.nn as nn\n",
    "import torch.optim as optim \n",
    "from torch.utils.data import DataLoader, Dataset\n",
    "import torch.utils.data as utils\n",
    "import torchvision\n",
    "from torchvision import datasets, models, transforms\n",
    "from albumentations import (\n",
    "    HorizontalFlip, VerticalFlip, IAAPerspective, ShiftScaleRotate, CLAHE, RandomRotate90,\n",
    "    Transpose, ShiftScaleRotate, Blur, OpticalDistortion, GridDistortion, HueSaturationValue,\n",
    "    IAAAdditiveGaussianNoise, GaussNoise, MotionBlur, MedianBlur, IAAPiecewiseAffine, RandomResizedCrop,\n",
    "    IAASharpen, IAAEmboss, RandomBrightnessContrast, Flip, OneOf, Compose, Normalize, Cutout, CoarseDropout, ShiftScaleRotate, CenterCrop, Resize\n",
    ")\n",
    "\n",
    "from albumentations.pytorch import ToTensorV2\n",
    "\n",
    "from efficientnet_pytorch import EfficientNet\n",
    "from sklearn.model_selection import GroupKFold, StratifiedKFold\n",
    "from sklearn.metrics import confusion_matrix\n",
    "from tqdm import tqdm\n",
    "import shutil\n",
    "import matplotlib.pyplot as plt\n",
    "%matplotlib inline\n",
    "import seaborn as sns\n",
    "import random\n",
    "import warnings\n",
    "warnings.filterwarnings(\"ignore\")"
   ]
  },
  {
   "cell_type": "code",
   "execution_count": 11,
   "metadata": {},
   "outputs": [
    {
     "name": "stdout",
     "output_type": "stream",
     "text": [
      "../../../data/cassava-leaf-disease-classification\\train_images/\n"
     ]
    }
   ],
   "source": [
    "BASE_DIR = \"../../../data/cassava-leaf-disease-classification\"\n",
    "train_dir = os.path.join(BASE_DIR, 'train_images/')\n",
    "test_dir = os.path.join(BASE_DIR, \"test_images/\")\n",
    "print(train_dir)"
   ]
  },
  {
   "cell_type": "code",
   "execution_count": 12,
   "metadata": {},
   "outputs": [],
   "source": [
    "#日付を取得\n",
    "import datetime as dt\n",
    "\n",
    "dt_now = dt.datetime.now()\n",
    "directory_name = dt_now.strftime('%Y%m%d%H')\n",
    "create_directory = BASE_DIR + '/models/' + directory_name\n",
    "if(not (os.path.exists(create_directory))):\n",
    "    os.mkdir(create_directory)"
   ]
  },
  {
   "cell_type": "code",
   "execution_count": 13,
   "metadata": {},
   "outputs": [],
   "source": [
    "## config\n",
    "class CFG:\n",
    "    num_workers=0\n",
    "    model_name='efficientnet-b3'\n",
    "    size=300\n",
    "    batch_size=8\n",
    "    target_size=5\n",
    "    target_col='label'\n",
    "    n_fold=3\n",
    "    seed = 2021\n",
    "    learning_rate = 1e-5\n",
    "    num_epochs = 20\n",
    "    n_split = 3\n",
    "    checkpoint_thres_loss = 0.5\n",
    "    checkpoint_thres_acc = 80\n",
    "    weights=torch.tensor([1.5, 1.0, 1.0, 1.0, 1.0]) #see 000_EDA.ipynb\n",
    "    RandomHorizontalFlip = True,\n",
    "    CenterCrop = True"
   ]
  },
  {
   "cell_type": "code",
   "execution_count": 14,
   "metadata": {},
   "outputs": [],
   "source": [
    "np.random.seed(CFG.seed)\n",
    "random.seed(CFG.seed)\n",
    "torch.manual_seed(CFG.seed)\n",
    "torch.cuda.manual_seed(CFG.seed)"
   ]
  },
  {
   "cell_type": "code",
   "execution_count": 15,
   "metadata": {},
   "outputs": [
    {
     "data": {
      "text/html": [
       "<div>\n",
       "<style scoped>\n",
       "    .dataframe tbody tr th:only-of-type {\n",
       "        vertical-align: middle;\n",
       "    }\n",
       "\n",
       "    .dataframe tbody tr th {\n",
       "        vertical-align: top;\n",
       "    }\n",
       "\n",
       "    .dataframe thead th {\n",
       "        text-align: right;\n",
       "    }\n",
       "</style>\n",
       "<table border=\"1\" class=\"dataframe\">\n",
       "  <thead>\n",
       "    <tr style=\"text-align: right;\">\n",
       "      <th></th>\n",
       "      <th>image_id</th>\n",
       "      <th>label</th>\n",
       "    </tr>\n",
       "  </thead>\n",
       "  <tbody>\n",
       "    <tr>\n",
       "      <th>0</th>\n",
       "      <td>1000015157.jpg</td>\n",
       "      <td>0</td>\n",
       "    </tr>\n",
       "    <tr>\n",
       "      <th>1</th>\n",
       "      <td>1000201771.jpg</td>\n",
       "      <td>3</td>\n",
       "    </tr>\n",
       "    <tr>\n",
       "      <th>2</th>\n",
       "      <td>100042118.jpg</td>\n",
       "      <td>1</td>\n",
       "    </tr>\n",
       "    <tr>\n",
       "      <th>3</th>\n",
       "      <td>1000723321.jpg</td>\n",
       "      <td>1</td>\n",
       "    </tr>\n",
       "    <tr>\n",
       "      <th>4</th>\n",
       "      <td>1000812911.jpg</td>\n",
       "      <td>3</td>\n",
       "    </tr>\n",
       "  </tbody>\n",
       "</table>\n",
       "</div>"
      ],
      "text/plain": [
       "         image_id  label\n",
       "0  1000015157.jpg      0\n",
       "1  1000201771.jpg      3\n",
       "2   100042118.jpg      1\n",
       "3  1000723321.jpg      1\n",
       "4  1000812911.jpg      3"
      ]
     },
     "execution_count": 15,
     "metadata": {},
     "output_type": "execute_result"
    }
   ],
   "source": [
    "df_train = pd.read_csv(BASE_DIR + \"/train.csv\")\n",
    "df_train.head()\n"
   ]
  },
  {
   "cell_type": "code",
   "execution_count": 16,
   "metadata": {},
   "outputs": [
    {
     "name": "stdout",
     "output_type": "stream",
     "text": [
      "Loaded pretrained weights for efficientnet-b3\n"
     ]
    }
   ],
   "source": [
    "\n",
    "model = EfficientNet.from_pretrained(CFG.model_name)\n",
    "num_ftrs = model._fc.in_features\n",
    "model._fc = nn.Linear(num_ftrs, CFG.target_size)"
   ]
  },
  {
   "cell_type": "code",
   "execution_count": null,
   "metadata": {},
   "outputs": [],
   "source": []
  },
  {
   "cell_type": "code",
   "execution_count": 17,
   "metadata": {},
   "outputs": [
    {
     "name": "stdout",
     "output_type": "stream",
     "text": [
      "cuda:0\n",
      "GeForce RTX 2060\n",
      "Memory Usage:\n",
      "Allocated: 0.0 GB\n",
      "Cached:    0.0 GB\n"
     ]
    }
   ],
   "source": [
    "device = torch.device(\"cuda:0\" if torch.cuda.is_available() else \"cpu\")\n",
    "print(device)\n",
    "if device.type == 'cuda':\n",
    "    print(torch.cuda.get_device_name(0))\n",
    "    print('Memory Usage:')\n",
    "    print('Allocated:', round(torch.cuda.memory_allocated(0)/1024**3,1), 'GB')\n",
    "    print('Cached:   ', round(torch.cuda.memory_cached(0)/1024**3,1), 'GB')"
   ]
  },
  {
   "cell_type": "code",
   "execution_count": 18,
   "metadata": {},
   "outputs": [],
   "source": [
    "def get_train_transforms():\n",
    "    return Compose([\n",
    "            RandomResizedCrop(CFG.size, CFG.size),\n",
    "            Transpose(p=0.5),\n",
    "            HorizontalFlip(p=0.5),\n",
    "            VerticalFlip(p=0.5),\n",
    "            ShiftScaleRotate(p=0.5),\n",
    "            HueSaturationValue(hue_shift_limit=0.2, sat_shift_limit=0.2, val_shift_limit=0.2, p=0.5),\n",
    "            RandomBrightnessContrast(brightness_limit=(-0.1,0.1), contrast_limit=(-0.1, 0.1), p=0.5),\n",
    "            Normalize(mean=[0.485, 0.456, 0.406], std=[0.229, 0.224, 0.225], max_pixel_value=255.0, p=1.0),\n",
    "            CoarseDropout(p=0.5),\n",
    "            Cutout(p=0.5),\n",
    "            ToTensorV2(p=1.0),\n",
    "        ], p=1.)\n",
    "  \n",
    "        \n",
    "def get_valid_transforms():\n",
    "    return Compose([\n",
    "            CenterCrop(CFG.size, CFG.size, p=1.),\n",
    "            Resize(CFG.size, CFG.size),\n",
    "            Normalize(mean=[0.485, 0.456, 0.406], std=[0.229, 0.224, 0.225], max_pixel_value=255.0, p=1.0),\n",
    "            ToTensorV2(p=1.0),\n",
    "        ], p=1.)"
   ]
  },
  {
   "cell_type": "code",
   "execution_count": 22,
   "metadata": {},
   "outputs": [],
   "source": [
    "class ImageData(Dataset):\n",
    "    def __init__(self, df, data_dir, transform, output_label=True):\n",
    "        super().__init__()\n",
    "        self.df = df\n",
    "        self.data_dir = data_dir\n",
    "        self.transform = transform\n",
    "        self.output_label = output_label\n",
    "\n",
    "    def __len__(self):\n",
    "        return len(self.df)\n",
    "    \n",
    "    def __getitem__(self, index):       \n",
    "        img_name = self.df.iloc[index,0]\n",
    "        if self.output_label:\n",
    "            label = self.df.iloc[index,1]\n",
    "        \n",
    "        img_path = os.path.join(self.data_dir, img_name)\n",
    "        image = plt.imread(img_path)\n",
    "        image = self.transform(image=image)\n",
    "\n",
    "        # do label smoothing\n",
    "        if self.output_label == True:\n",
    "            return image, label\n",
    "        else:\n",
    "            return image"
   ]
  },
  {
   "cell_type": "code",
   "execution_count": 23,
   "metadata": {},
   "outputs": [],
   "source": [
    "def Plot_Model_History(loss_tra_li,acc_tra_li,loss_val_li,acc_val_li):\n",
    "    plt.figure(figsize=(12, 5))\n",
    "    plt.subplot(2, 2, 1)\n",
    "    plt.plot(loss_tra_li, label=\"train_loss\")\n",
    "    plt.plot(loss_val_li, label=\"val_loss\")\n",
    "    plt.legend()\n",
    "    plt.subplot(2, 2, 2)\n",
    "    plt.plot(acc_tra_li, label=\"train_acc\")\n",
    "    plt.plot(acc_val_li, label=\"val_acc\")\n",
    "    plt.legend()\n",
    "    plt.show()\n",
    "    \n",
    "def Save_histroy(init=False):\n",
    "    filename = \"./log/\" + directory_name\n",
    "    if init:\n",
    "        with open(filename+'.txt','w') as f:\n",
    "            f.write(\"model: {}, lr: {}, weights: {}. batchsize: {}, kfold: {}, epoch: {}, RandomHorizontalFlip:{},CenterCrop: {} \\n\" .format(CFG.model_name,CFG.learning_rate,CFG.weights, CFG.batch_size,CFG.n_split,CFG.num_epochs,CFG.RandomHorizontalFlip,CFG.CenterCrop))\n",
    "    else:\n",
    "        with open(filename+'.txt',mode='a') as f:\n",
    "            f.write('\\nkfold: {}, epoch: {}. train_loss: {}, train_acc: {}. val_loss: {}, val_acc: {}'\n",
    "                    .format(fold_index+1, epoch + 1, train_loss, train_acc, val_loss, val_acc))\n",
    "            \n",
    "            \n",
    "            \n",
    "def Confusion_Matrix(train_true_li,train_pred_li,val_true_li,val_pred_li):\n",
    "    plt.figure(figsize=(10,5))\n",
    "    train_cm = confusion_matrix(train_true_li,train_pred_li)\n",
    "    val_cm = confusion_matrix(val_true_li,val_pred_li)\n",
    "    plt.subplot(1,2,1)\n",
    "    sns.heatmap(train_cm, annot=True, cmap='Blues', cbar=False)\n",
    "    plt.xlabel(\"taget\")\n",
    "    plt.ylabel(\"predict\")\n",
    "    plt.title(\"train\")\n",
    "    \n",
    "    plt.subplot(1,2,2)\n",
    "    sns.heatmap(val_cm, annot=True, cmap='Blues', cbar=False)\n",
    "    plt.title(\"val\")\n",
    "    plt.xlabel(\"taget\")\n",
    "    plt.ylabel(\"predict\")\n",
    "    plt.show()"
   ]
  },
  {
   "cell_type": "code",
   "execution_count": null,
   "metadata": {},
   "outputs": [
    {
     "name": "stdout",
     "output_type": "stream",
     "text": [
      "Loaded pretrained weights for efficientnet-b3\n",
      "Kfold: 1 - Epoch: 1 - Train_Loss: 1.018670 - Train_Acc: 65.9492 - Val_Loss: 0.823179 - Val_Acc: 72.928642\n",
      "Kfold: 1 - Epoch: 2 - Train_Loss: 0.769491 - Train_Acc: 73.0160 - Val_Loss: 0.649605 - Val_Acc: 79.419599\n",
      "Kfold: 1 - Epoch: 3 - Train_Loss: 0.670624 - Train_Acc: 76.5914 - Val_Loss: 0.579930 - Val_Acc: 80.555166\n",
      "Kfold: 1 - Epoch: 4 - Train_Loss: 0.623204 - Train_Acc: 78.3301 - Val_Loss: 0.542493 - Val_Acc: 81.494462\n",
      "Kfold: 1 - Epoch: 5 - Train_Loss: 0.591354 - Train_Acc: 79.5569 - Val_Loss: 0.513729 - Val_Acc: 82.321604\n",
      "Kfold: 1 - Epoch: 6 - Train_Loss: 0.567735 - Train_Acc: 80.1528 - Val_Loss: 0.495176 - Val_Acc: 82.896397\n",
      "Kfold: 1 - Epoch: 7 - Train_Loss: 0.556547 - Train_Acc: 80.8819 - Val_Loss: 0.487117 - Val_Acc: 83.078649\n",
      "Kfold: 1 - Epoch: 8 - Train_Loss: 0.533685 - Train_Acc: 81.8985 - Val_Loss: 0.470638 - Val_Acc: 83.751577\n",
      "Kfold: 1 - Epoch: 9 - Train_Loss: 0.510634 - Train_Acc: 82.4944 - Val_Loss: 0.475319 - Val_Acc: 83.835693\n",
      "Kfold: 1 - Epoch: 10 - Train_Loss: 0.503381 - Train_Acc: 82.7958 - Val_Loss: 0.463119 - Val_Acc: 84.340390\n",
      "Kfold: 1 - Epoch: 11 - Train_Loss: 0.497103 - Train_Acc: 82.9150 - Val_Loss: 0.475626 - Val_Acc: 83.513248\n",
      "Kfold: 1 - Epoch: 12 - Train_Loss: 0.493352 - Train_Acc: 83.3918 - Val_Loss: 0.455828 - Val_Acc: 84.620777\n",
      "Kfold: 1 - Epoch: 13 - Train_Loss: 0.488683 - Train_Acc: 83.3918 - Val_Loss: 0.451178 - Val_Acc: 84.943222\n",
      "Kfold: 1 - Epoch: 14 - Train_Loss: 0.477754 - Train_Acc: 83.8474 - Val_Loss: 0.444968 - Val_Acc: 85.321744\n",
      "Kfold: 1 - Epoch: 15 - Train_Loss: 0.465716 - Train_Acc: 84.1209 - Val_Loss: 0.441660 - Val_Acc: 85.447918\n",
      "Kfold: 1 - Epoch: 16 - Train_Loss: 0.454681 - Train_Acc: 84.8009 - Val_Loss: 0.449026 - Val_Acc: 85.013318\n",
      "Kfold: 1 - Epoch: 17 - Train_Loss: 0.453936 - Train_Acc: 84.8920 - Val_Loss: 0.476786 - Val_Acc: 83.541287\n",
      "Kfold: 1 - Epoch: 18 - Train_Loss: 0.442654 - Train_Acc: 84.9972 - Val_Loss: 0.456505 - Val_Acc: 84.690873\n",
      "Kfold: 1 - Epoch: 19 - Train_Loss: 0.437544 - Train_Acc: 85.3758 - Val_Loss: 0.445261 - Val_Acc: 84.901164\n",
      "Kfold: 1 - Epoch: 20 - Train_Loss: 0.433066 - Train_Acc: 85.4879 - Val_Loss: 0.444540 - Val_Acc: 84.943222\n"
     ]
    },
    {
     "data": {
      "image/png": "[encoded data removed]",
      "text/plain": [
       "<Figure size 864x360 with 2 Axes>"
      ]
     },
     "metadata": {
      "needs_background": "light"
     },
     "output_type": "display_data"
    },
    {
     "data": {
      "image/png": "[encoded data removed]",
      "text/plain": [
       "<Figure size 720x360 with 2 Axes>"
      ]
     },
     "metadata": {
      "needs_background": "light"
     },
     "output_type": "display_data"
    },
    {
     "name": "stdout",
     "output_type": "stream",
     "text": [
      "Loaded pretrained weights for efficientnet-b3\n",
      "Kfold: 2 - Epoch: 1 - Train_Loss: 1.024432 - Train_Acc: 65.5310 - Val_Loss: 0.816039 - Val_Acc: 74.579361\n",
      "Kfold: 2 - Epoch: 2 - Train_Loss: 0.770799 - Train_Acc: 73.2072 - Val_Loss: 0.660663 - Val_Acc: 78.701626\n",
      "Kfold: 2 - Epoch: 3 - Train_Loss: 0.676404 - Train_Acc: 76.6842 - Val_Loss: 0.555340 - Val_Acc: 81.169377\n",
      "Kfold: 2 - Epoch: 4 - Train_Loss: 0.636173 - Train_Acc: 78.0792 - Val_Loss: 0.535636 - Val_Acc: 81.604038\n",
      "Kfold: 2 - Epoch: 5 - Train_Loss: 0.607357 - Train_Acc: 79.1307 - Val_Loss: 0.497801 - Val_Acc: 83.090297\n",
      "Kfold: 2 - Epoch: 6 - Train_Loss: 0.572610 - Train_Acc: 80.6730 - Val_Loss: 0.495235 - Val_Acc: 83.090297\n",
      "Kfold: 2 - Epoch: 7 - Train_Loss: 0.562094 - Train_Acc: 80.8482 - Val_Loss: 0.480724 - Val_Acc: 83.567022\n",
      "Kfold: 2 - Epoch: 8 - Train_Loss: 0.539919 - Train_Acc: 81.6264 - Val_Loss: 0.457459 - Val_Acc: 84.534492\n",
      "Kfold: 2 - Epoch: 9 - Train_Loss: 0.533311 - Train_Acc: 81.5563 - Val_Loss: 0.458840 - Val_Acc: 84.380258\n",
      "Kfold: 2 - Epoch: 10 - Train_Loss: 0.516714 - Train_Acc: 82.3554 - Val_Loss: 0.456783 - Val_Acc: 84.534492\n"
     ]
    }
   ],
   "source": [
    "# n_splitsでKの数を指定\n",
    "folds = StratifiedKFold(n_splits=CFG.n_split).split(np.arange(df_train.shape[0]), df_train[\"label\"].values)\n",
    "Save_histroy(init=True)\n",
    "for fold_index, (train_index,val_index) in enumerate(folds):\n",
    "    model = EfficientNet.from_pretrained(CFG.model_name)\n",
    "    num_ftrs = model._fc.in_features\n",
    "    model._fc = nn.Linear(num_ftrs, CFG.target_size)\n",
    "    model = model.to(device)\n",
    "    optimizer = optim.Adam(model.parameters(), lr=CFG.learning_rate)\n",
    "    \n",
    "    train = df_train.iloc[train_index].reset_index(drop=True)\n",
    "    train_data = ImageData(df = train, data_dir = train_dir, transform = get_train_transforms())\n",
    "    train_loader = DataLoader(dataset = train_data, batch_size = CFG.batch_size, num_workers=CFG.num_workers, pin_memory=True,shuffle=True)\n",
    "    train_criterion = nn.CrossEntropyLoss(weight=CFG.weights).to(device)\n",
    "    \n",
    "    val = df_train.iloc[val_index,:].reset_index(drop=True)\n",
    "    val_data = ImageData(df = val, data_dir = train_dir, transform = get_valid_transforms())\n",
    "    val_loader = DataLoader(dataset = val_data, batch_size = CFG.batch_size, num_workers=CFG.num_workers, pin_memory=True,shuffle=True)\n",
    "    val_criterion = nn.CrossEntropyLoss(weight=CFG.weights).to(device)\n",
    "    train_epoch_log = []\n",
    "    train_acc_log = []\n",
    "    val_epoch_log = []\n",
    "    val_acc_log = []\n",
    "    train_taget_li = []\n",
    "    train_pred_li = []\n",
    "    val_taget_li = []\n",
    "    val_pred_li = []\n",
    "    for epoch in range(CFG.num_epochs):\n",
    "        train_total = 0\n",
    "        train_correct = 0\n",
    "        train_loss_sum = 0\n",
    "        val_total = 0\n",
    "        val_correct = 0\n",
    "        val_loss_sum = 0\n",
    "        \n",
    "        # train\n",
    "        model.train()\n",
    "        for idx, (data, target) in enumerate(train_loader):\n",
    "            data, target = data['image'].to(device), target.to(device)\n",
    "            optimizer.zero_grad()\n",
    "            output = model(data)\n",
    "            loss = train_criterion(output, target)\n",
    "            loss.backward()\n",
    "            optimizer.step()  \n",
    "            \n",
    "            train_loss_sum += loss.item()\n",
    "            train_total += target.size(0)\n",
    "            _,predicted = output.max(1)\n",
    "            train_correct += predicted.eq(target).sum().item()\n",
    "            train_taget_li.extend(target.to('cpu').detach().numpy().copy().tolist())\n",
    "            train_pred_li.extend(predicted.to('cpu').detach().numpy().copy().tolist())\n",
    "            \n",
    "            \n",
    "        train_loss = train_loss_sum / len(train_loader)\n",
    "        train_epoch_log.append(train_loss)\n",
    "        train_acc = 100.0 * train_correct/train_total\n",
    "        train_acc_log.append(train_acc)\n",
    "        \n",
    "        # val\n",
    "        model.eval()\n",
    "        with torch.no_grad():\n",
    "            for idx, (data, target) in enumerate(val_loader):\n",
    "                data, target = data['image'].to(device), target.to(device)\n",
    "                output = model(data)\n",
    "                loss = val_criterion(output, target)\n",
    "                val_loss_sum += loss.item()\n",
    "                val_total += target.size(0)\n",
    "                _,predicted = output.max(1)\n",
    "                val_correct += (predicted == target).sum().item()\n",
    "                val_taget_li.extend(target.to('cpu').detach().numpy().copy().tolist())\n",
    "                val_pred_li.extend(predicted.to('cpu').detach().numpy().copy().tolist())\n",
    "                    \n",
    "            val_loss = val_loss_sum / len(val_loader)\n",
    "            val_epoch_log.append(val_loss)\n",
    "            val_acc = 100.0 * val_correct/val_total\n",
    "            val_acc_log.append(val_acc)\n",
    "                \n",
    "        print('Kfold: {} - Epoch: {} - Train_Loss: {:.6f} - Train_Acc: {:.4f} - Val_Loss: {:.6f} - Val_Acc: {:4f}'.format(fold_index+1, epoch + 1, train_loss, train_acc, val_loss, val_acc))\n",
    "        Save_histroy(init=False)\n",
    "        if (val_loss < CFG.checkpoint_thres_loss) & (val_acc > CFG.checkpoint_thres_acc):\n",
    "            CFG.checkpoint_thres_loss = val_loss\n",
    "            CFG.checkpoint_thres_acc = val_acc\n",
    "            path = create_directory + \"./\"+ CFG.model_name + \"epoch\"+str(epoch)+ \"_Acc_\" + str(val_acc) + '.pth'\n",
    "            torch.save(model.state_dict(), path) \n",
    "        \n",
    "    Plot_Model_History(train_epoch_log,train_acc_log,val_epoch_log,val_acc_log)\n",
    "    Confusion_Matrix(train_taget_li,train_pred_li,val_taget_li,val_pred_li)"
   ]
  },
  {
   "cell_type": "code",
   "execution_count": null,
   "metadata": {},
   "outputs": [],
   "source": []
  },
  {
   "cell_type": "code",
   "execution_count": null,
   "metadata": {},
   "outputs": [],
   "source": []
  },
  {
   "cell_type": "code",
   "execution_count": null,
   "metadata": {},
   "outputs": [],
   "source": []
  },
  {
   "cell_type": "code",
   "execution_count": null,
   "metadata": {},
   "outputs": [],
   "source": []
  },
  {
   "cell_type": "code",
   "execution_count": null,
   "metadata": {},
   "outputs": [],
   "source": []
  },
  {
   "cell_type": "code",
   "execution_count": null,
   "metadata": {},
   "outputs": [],
   "source": []
  }
 ],
 "metadata": {
  "kernelspec": {
   "display_name": "env_pytorch",
   "language": "python",
   "name": "env_pytorch"
  },
  "language_info": {
   "codemirror_mode": {
    "name": "ipython",
    "version": 3
   },
   "file_extension": ".py",
   "mimetype": "text/x-python",
   "name": "python",
   "nbconvert_exporter": "python",
   "pygments_lexer": "ipython3",
   "version": "3.8.5"
  }
 },
 "nbformat": 4,
 "nbformat_minor": 4
}
